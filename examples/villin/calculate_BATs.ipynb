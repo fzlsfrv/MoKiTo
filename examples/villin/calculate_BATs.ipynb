{
 "cells": [
  {
   "cell_type": "code",
   "execution_count": 1,
   "id": "8a9a7a1f",
   "metadata": {},
   "outputs": [
    {
     "name": "stdout",
     "output_type": "stream",
     "text": [
      " \n",
      "Created variables:\n",
      "inp_dir = input/\n",
      "out_trajectories1 = output/trajectories/\n",
      "out_trajectories2 = output/trajectories/openmm_files/\n",
      "out_trajectories3 = output/trajectories/openmm_files/initial_states/\n",
      "out_trajectories4 = output/trajectories/openmm_files/final_states/\n",
      "out_trajectories5 = output/trajectories/openmm_files/final_states_nh/\n",
      "out_isokann = output/isokann/\n",
      "out_mokito = output/mokito/\n"
     ]
    }
   ],
   "source": [
    "import numpy as np\n",
    "import sympy as sp\n",
    "import matplotlib.pyplot as plt\n",
    "import sys\n",
    "import os\n",
    "\n",
    "# Add the project root\n",
    "sys.path.append(os.path.abspath('../../'))\n",
    "\n",
    "from src.useful_functions import *\n",
    "from src.openmm.BATs_module import generate_BAT_torch\n",
    "\n",
    "# For reproducibility\n",
    "np.random.seed(0)\n",
    "\n",
    "# For matplotlib\n",
    "font = {'size'   : 10}\n",
    "plt.rc('font', **font)\n",
    "in2cm = 1/2.54  # centimeters in inches\n",
    "\n",
    "# Read directory paths\n",
    "read_dirs_paths('dir_paths.txt', globals())\n"
   ]
  },
  {
   "cell_type": "code",
   "execution_count": null,
   "id": "a612a667",
   "metadata": {},
   "outputs": [
    {
     "name": "stdout",
     "output_type": "stream",
     "text": [
      "output/isokann/ already exists!\n",
      " \n",
      " \n",
      " \n",
      "This will create torch files containing BAT coordinates using only BACKBONE atoms\n",
      " \n"
     ]
    },
    {
     "name": "stderr",
     "output_type": "stream",
     "text": [
      "/scratch/htc/ldonati/anaconda32/envs/emma32/lib/python3.11/site-packages/MDAnalysis/coordinates/DCD.py:165: DeprecationWarning: DCDReader currently makes independent timesteps by copying self.ts while other readers update self.ts inplace. This behavior will be changed in 3.0 to be the same as other readers. Read more at https://github.com/MDAnalysis/mdanalysis/issues/3889 to learn if this change in behavior might affect you.\n",
      "  warnings.warn(\"DCDReader currently makes independent timesteps\"\n"
     ]
    },
    {
     "name": "stdout",
     "output_type": "stream",
     "text": [
      "Number of initial states: 6000\n",
      "Number of final states: 10\n",
      "Number of atoms (no water): 582\n",
      "I am generating the relevant coordinate...\n",
      "len(rel_coords)==2, then the relevant coordinate is a DISTANCE between 2 atoms\n",
      " \n",
      "Number of backbone atoms: 140\n",
      "Number of BAT dimensions: 1716\n",
      "I am creating the tensor with the initial states...\n",
      "Shape of BAT0?\n",
      "Npoints, Ndims\n",
      "torch.Size([6000, 1716])\n",
      " \n",
      "I am creating the tensor with the final states...\n",
      "The shape of a file xt_i_rj.dcd is (10, 582, 3)\n"
     ]
    },
    {
     "name": "stderr",
     "output_type": "stream",
     "text": [
      "100%|██████████| 6000/6000 [1:13:02<00:00,  1.37it/s]\n"
     ]
    },
    {
     "name": "stdout",
     "output_type": "stream",
     "text": [
      " \n",
      "Shape of BATt?\n",
      "Nframes, Npoints, Nfinpoints, Ndims\n",
      "torch.Size([10, 6000, 10, 1716])\n"
     ]
    }
   ],
   "source": [
    "\n",
    "if not os.path.exists(out_isokann ):\n",
    "    # Create the directory\n",
    "    os.makedirs(out_isokann )\n",
    "    print(out_isokann , \"created successfully!\")\n",
    "else:\n",
    "    print(out_isokann , \"already exists!\")\n",
    "\n",
    "print(\" \")\n",
    "print(\" \")\n",
    "\n",
    "generate_BAT_torch(\n",
    "                        inp_dir  =  inp_dir ,\n",
    "                        out_dir  =  out_trajectories2 ,\n",
    "                        out_dir2 =  'final_states/',\n",
    "                        iso_dir  =  out_trajectories1 ,\n",
    "                        pdbfile_solute    = 'pdbfile_solute.pdb', \n",
    "                        pdbfile_water     = 'pdbfile_water.pdb', \n",
    "                        prmtopfile_solute = 'prmtopfile_solute.prmtop', \n",
    "                        file_traj_water   = 'trajectory_water.dcd',\n",
    "                        file_traj_solute  = 'trajectory_solute.dcd',\n",
    "                        frames     = np.array([0,1,2,3,4,5,6,7,8,9]), #,1,2,3,4,5,6,7,8,9\n",
    "                        rel_coords = np.array([[0,586]]),\n",
    "                        BB=True\n",
    "                        )\n",
    "                        "
   ]
  },
  {
   "cell_type": "code",
   "execution_count": null,
   "id": "9d56b470",
   "metadata": {},
   "outputs": [],
   "source": []
  }
 ],
 "metadata": {
  "kernelspec": {
   "display_name": "emma32",
   "language": "python",
   "name": "python3"
  },
  "language_info": {
   "codemirror_mode": {
    "name": "ipython",
    "version": 3
   },
   "file_extension": ".py",
   "mimetype": "text/x-python",
   "name": "python",
   "nbconvert_exporter": "python",
   "pygments_lexer": "ipython3",
   "version": "3.11.8"
  }
 },
 "nbformat": 4,
 "nbformat_minor": 5
}
