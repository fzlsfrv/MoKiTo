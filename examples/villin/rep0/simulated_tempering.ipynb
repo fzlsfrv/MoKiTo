{
 "cells": [
  {
   "cell_type": "code",
   "execution_count": 1,
   "metadata": {},
   "outputs": [],
   "source": [
    "import numpy as np\n",
    "import sympy as sp\n",
    "import matplotlib.pyplot as plt\n",
    "import sys\n",
    "import os\n",
    "\n",
    "# Add the project root\n",
    "sys.path.append(os.path.abspath('../../../'))\n",
    "\n",
    "from src.openmm.simulated_tempering_module import generate_initial_trajectory\n",
    "\n",
    "# For reproducibility\n",
    "np.random.seed(0)"
   ]
  },
  {
   "cell_type": "code",
   "execution_count": null,
   "metadata": {},
   "outputs": [
    {
     "name": "stdout",
     "output_type": "stream",
     "text": [
      ">> Working directories:\n",
      "Input files: ../input/\n",
      "Output files: output/\n",
      " \n",
      ">> Integrator parameters:\n",
      "Integrator timestep: 0.002 ps\n",
      "Number of timesteps: 10000\n",
      "Real time: 0.02 ns\n",
      "Saved frames (only molecule): 2000\n",
      "Saved frames (molecule+water): 2000\n",
      " \n",
      ">> System parameters:\n",
      "Lowest temperature: 273 K\n",
      "Friction: 1 ps-1\n",
      "\n",
      "<openmm.openmm.LangevinIntegrator; proxy of <Swig Object of type 'OpenMM::LangevinIntegrator *' at 0x7fb3689de130> >\n",
      "Solvation ... \n",
      "\n",
      ">> Molecule parameters:\n",
      "Number of atoms (no water): 582\n",
      "Number of water molecules: 4742\n",
      "Total number of atoms: 14810\n",
      " \n",
      "\n",
      "\n",
      "*** Minimizing ...\n",
      "*** Minimization completed ***\n",
      "\n",
      "\n",
      "*** Equilibrating...\n",
      "*** Equilibration completed ***\n"
     ]
    },
    {
     "name": "stderr",
     "output_type": "stream",
     "text": [
      "/scratch/htc/ldonati/anaconda32/envs/emma32/lib/python3.11/site-packages/mdtraj/utils/validation.py:123: TypeCastPerformanceWarning: Casting xyz dtype=float64 to <class 'numpy.float32'> \n",
      "  warnings.warn(\n"
     ]
    }
   ],
   "source": [
    "inp_dir = '../input/'\n",
    "out_dir = 'output/'\n",
    "\n",
    "pdbfile_solute = 'pdbfile_solute.pdb'\n",
    "pdbfile_water = 'pdbfile_water.pdb'\n",
    "\n",
    "file_traj_water  = \"trajectory_water.dcd\"\n",
    "file_traj_solute = \"trajectory_solute.dcd\"\n",
    "\n",
    "generate_initial_trajectory(\n",
    "                                inp_dir  =  inp_dir,\n",
    "                                out_dir  =  out_dir,\n",
    "                                pdbfile_solute = pdbfile_solute, \n",
    "                                file_traj_water  = file_traj_water,\n",
    "                                file_traj_solute = file_traj_solute,\n",
    "                                dt       = 0.002,\n",
    "                                Nsteps   = 10000,\n",
    "                                Nframes_solute    = 2000,\n",
    "                                Nframes_water     = 2000,\n",
    "                                solvent = 'water',\n",
    "                                timesteps_equilibration = 1,\n",
    "                                save_vels = False,\n",
    "                                gamma = 1,\n",
    "                                Ntemps     = 20,\n",
    "                                minT       = 273,\n",
    "                                maxT       = 500,\n",
    "                                water_padding = None,\n",
    "                                water_box = [5.4, 5.4, 5.4],\n",
    "                                platform = 'CUDA'\n",
    "                            )\n"
   ]
  }
 ],
 "metadata": {
  "kernelspec": {
   "display_name": "emma32",
   "language": "python",
   "name": "python3"
  },
  "language_info": {
   "codemirror_mode": {
    "name": "ipython",
    "version": 3
   },
   "file_extension": ".py",
   "mimetype": "text/x-python",
   "name": "python",
   "nbconvert_exporter": "python",
   "pygments_lexer": "ipython3",
   "version": "3.11.8"
  }
 },
 "nbformat": 4,
 "nbformat_minor": 2
}
