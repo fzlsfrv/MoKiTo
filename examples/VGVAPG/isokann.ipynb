{
 "cells": [
  {
   "cell_type": "code",
   "execution_count": 3,
   "id": "7b4795f3",
   "metadata": {},
   "outputs": [
    {
     "name": "stdout",
     "output_type": "stream",
     "text": [
      "Created variables:\n",
      "inp_dir = input/\n",
      "out_trajectories1 = output/trajectories/\n",
      "out_trajectories2 = output/trajectories/openmm_files/\n",
      "out_trajectories3 = output/trajectories/openmm_files/initial_states/\n",
      "out_trajectories4 = output/trajectories/openmm_files/final_states/\n",
      "out_isokann = output/isokann/\n",
      "out_mokito = output/mokito/\n",
      "\n",
      "cuda\n"
     ]
    }
   ],
   "source": [
    "import numpy as np\n",
    "import sympy as sp\n",
    "import matplotlib.pyplot as plt\n",
    "import matplotlib.cm as cm\n",
    "\n",
    "import sys\n",
    "import os\n",
    "import torch as pt\n",
    "from tqdm import tqdm\n",
    "\n",
    "# Add the project root\n",
    "sys.path.append(os.path.abspath('../../'))\n",
    "\n",
    "from src.useful_functions import read_dirs_paths\n",
    "from src.isokann.modules import *\n",
    "\n",
    "# For matplotlib\n",
    "font = {'size'   : 10}\n",
    "plt.rc('font', **font)\n",
    "in2cm = 1/2.54  # centimeters in inches\n",
    "\n",
    "# For reproducibility\n",
    "np.random.seed(0)\n",
    "pt.manual_seed(0)\n",
    "\n",
    "# Read directory paths\n",
    "read_dirs_paths('dir_paths.txt', globals())\n",
    "\n",
    "device = pt.device(\"cuda\" if pt.cuda.is_available() else \"cpu\")\n",
    "print(\"\")\n",
    "print(device)\n"
   ]
  },
  {
   "cell_type": "code",
   "execution_count": 4,
   "id": "558510dc-fb1d-41d0-bb1d-b98df11b5609",
   "metadata": {},
   "outputs": [],
   "source": [
    "# Load initial and final states and convert to torch\n",
    "D0 = pt.load(out_trajectories1 + 'PWDistances_0.pt', map_location=device)\n",
    "DT = pt.load(out_trajectories1 + 'PWDistances_t.pt', map_location=device)\n",
    "R0 = np.loadtxt(out_trajectories1 + 'R0.txt')\n",
    "\n",
    "Npoints = D0.shape[0]\n",
    "Ndims   = D0.shape[1]\n",
    "\n",
    "Nfinpoints  = DT.shape[1]\n",
    "Nframes     = DT.shape[3]\n",
    "\n",
    "\n",
    "frame = 0\n",
    "Dt = pt.clone(DT[frame,:,:,:])"
   ]
  },
  {
   "cell_type": "code",
   "execution_count": 5,
   "id": "7587632a-c01c-4509-b911-0a570d7e5c17",
   "metadata": {},
   "outputs": [
    {
     "name": "stderr",
     "output_type": "stream",
     "text": [
      "  0%|          | 0/15 [00:00<?, ?it/s]"
     ]
    },
    {
     "name": "stdout",
     "output_type": "stream",
     "text": [
      "Testing learning rate = 0.0001\n",
      "Testing weight decays = 0.001\n",
      "Testing layers = [2628 1314    1]\n"
     ]
    },
    {
     "name": "stderr",
     "output_type": "stream",
     "text": [
      "  7%|▋         | 1/15 [00:06<01:31,  6.55s/it]"
     ]
    },
    {
     "name": "stdout",
     "output_type": "stream",
     "text": [
      "Validation loss: tensor(0.0029, device='cuda:0')\n",
      "Testing learning rate = 0.01\n",
      "Testing weight decays = 0.001\n",
      "Testing layers = [2628 1314    1]\n"
     ]
    },
    {
     "name": "stderr",
     "output_type": "stream",
     "text": [
      " 13%|█▎        | 2/15 [00:12<01:22,  6.36s/it]"
     ]
    },
    {
     "name": "stdout",
     "output_type": "stream",
     "text": [
      "Validation loss: tensor(0.0349, device='cuda:0')\n",
      "Testing learning rate = 0.01\n",
      "Testing weight decays = 0.001\n",
      "Testing layers = [2628  876    1]\n"
     ]
    },
    {
     "name": "stderr",
     "output_type": "stream",
     "text": [
      " 20%|██        | 3/15 [00:18<01:14,  6.22s/it]"
     ]
    },
    {
     "name": "stdout",
     "output_type": "stream",
     "text": [
      "Validation loss: tensor(0.0838, device='cuda:0')\n",
      "Testing learning rate = 0.001\n",
      "Testing weight decays = 0.001\n",
      "Testing layers = [2628  876    1]\n"
     ]
    },
    {
     "name": "stderr",
     "output_type": "stream",
     "text": [
      " 27%|██▋       | 4/15 [00:24<01:07,  6.16s/it]"
     ]
    },
    {
     "name": "stdout",
     "output_type": "stream",
     "text": [
      "Validation loss: tensor(0.0025, device='cuda:0')\n",
      "Testing learning rate = 0.0001\n",
      "Testing weight decays = 0.0001\n",
      "Testing layers = [2628 1314    1]\n"
     ]
    },
    {
     "name": "stderr",
     "output_type": "stream",
     "text": [
      " 33%|███▎      | 5/15 [00:31<01:01,  6.14s/it]"
     ]
    },
    {
     "name": "stdout",
     "output_type": "stream",
     "text": [
      "Validation loss: tensor(0.0026, device='cuda:0')\n",
      "Testing learning rate = 0.001\n",
      "Testing weight decays = 0.0001\n",
      "Testing layers = [2628 1752    1]\n"
     ]
    },
    {
     "name": "stderr",
     "output_type": "stream",
     "text": [
      " 40%|████      | 6/15 [00:36<00:54,  6.06s/it]"
     ]
    },
    {
     "name": "stdout",
     "output_type": "stream",
     "text": [
      "Validation loss: tensor(0.0026, device='cuda:0')\n",
      "Testing learning rate = 0.001\n",
      "Testing weight decays = 0.001\n",
      "Testing layers = [2628  876    1]\n"
     ]
    },
    {
     "name": "stderr",
     "output_type": "stream",
     "text": [
      " 47%|████▋     | 7/15 [00:42<00:48,  6.06s/it]"
     ]
    },
    {
     "name": "stdout",
     "output_type": "stream",
     "text": [
      "Validation loss: tensor(0.0026, device='cuda:0')\n",
      "Testing learning rate = 0.0001\n",
      "Testing weight decays = 0.001\n",
      "Testing layers = [2628 1314    1]\n"
     ]
    },
    {
     "name": "stderr",
     "output_type": "stream",
     "text": [
      " 53%|█████▎    | 8/15 [00:48<00:42,  6.04s/it]"
     ]
    },
    {
     "name": "stdout",
     "output_type": "stream",
     "text": [
      "Validation loss: tensor(0.0031, device='cuda:0')\n",
      "Testing learning rate = 0.0001\n",
      "Testing weight decays = 0.001\n",
      "Testing layers = [2628 1314    1]\n"
     ]
    },
    {
     "name": "stderr",
     "output_type": "stream",
     "text": [
      " 60%|██████    | 9/15 [00:55<00:36,  6.05s/it]"
     ]
    },
    {
     "name": "stdout",
     "output_type": "stream",
     "text": [
      "Validation loss: tensor(0.0032, device='cuda:0')\n",
      "Testing learning rate = 0.0001\n",
      "Testing weight decays = 1e-05\n",
      "Testing layers = [2628 1752    1]\n"
     ]
    },
    {
     "name": "stderr",
     "output_type": "stream",
     "text": [
      " 67%|██████▋   | 10/15 [01:01<00:30,  6.10s/it]"
     ]
    },
    {
     "name": "stdout",
     "output_type": "stream",
     "text": [
      "Validation loss: tensor(0.0025, device='cuda:0')\n",
      "Testing learning rate = 0.01\n",
      "Testing weight decays = 0.0001\n",
      "Testing layers = [2628 1752    1]\n"
     ]
    },
    {
     "name": "stderr",
     "output_type": "stream",
     "text": [
      " 73%|███████▎  | 11/15 [01:07<00:24,  6.16s/it]"
     ]
    },
    {
     "name": "stdout",
     "output_type": "stream",
     "text": [
      "Validation loss: tensor(0.1751, device='cuda:0')\n",
      "Testing learning rate = 0.001\n",
      "Testing weight decays = 0.001\n",
      "Testing layers = [2628 1314    1]\n"
     ]
    },
    {
     "name": "stderr",
     "output_type": "stream",
     "text": [
      " 80%|████████  | 12/15 [01:13<00:18,  6.02s/it]"
     ]
    },
    {
     "name": "stdout",
     "output_type": "stream",
     "text": [
      "Validation loss: tensor(0.0025, device='cuda:0')\n",
      "Testing learning rate = 0.0001\n",
      "Testing weight decays = 0.0001\n",
      "Testing layers = [2628  876    1]\n"
     ]
    },
    {
     "name": "stderr",
     "output_type": "stream",
     "text": [
      " 87%|████████▋ | 13/15 [01:18<00:11,  5.91s/it]"
     ]
    },
    {
     "name": "stdout",
     "output_type": "stream",
     "text": [
      "Validation loss: tensor(0.0025, device='cuda:0')\n",
      "Testing learning rate = 0.001\n",
      "Testing weight decays = 0.0001\n",
      "Testing layers = [2628 1752    1]\n"
     ]
    },
    {
     "name": "stderr",
     "output_type": "stream",
     "text": [
      " 93%|█████████▎| 14/15 [01:25<00:06,  6.04s/it]"
     ]
    },
    {
     "name": "stdout",
     "output_type": "stream",
     "text": [
      "Validation loss: tensor(0.0030, device='cuda:0')\n",
      "Testing learning rate = 0.0001\n",
      "Testing weight decays = 0.001\n",
      "Testing layers = [2628  876    1]\n"
     ]
    },
    {
     "name": "stderr",
     "output_type": "stream",
     "text": [
      "100%|██████████| 15/15 [01:31<00:00,  6.10s/it]"
     ]
    },
    {
     "name": "stdout",
     "output_type": "stream",
     "text": [
      "Validation loss: tensor(0.0030, device='cuda:0')\n",
      " \n",
      "The best hyperparameters are: {'nodes': array([2628,  876,    1]), 'learning_rate': 0.0001, 'weight_decay': 0.0001}\n",
      "The best validation loss is: tensor(0.0025, device='cuda:0')\n",
      " \n"
     ]
    },
    {
     "name": "stderr",
     "output_type": "stream",
     "text": [
      "\n"
     ]
    }
   ],
   "source": [
    "\n",
    "# Find the optimal hyperparameters using random search\n",
    "NN_layers =          [(Ndims, int(2*Ndims/3), 1), \n",
    "                      (Ndims, int(Ndims/2), 1), \n",
    "                      (Ndims, int(Ndims/3), 1)]\n",
    "\n",
    "\n",
    "learning_rates = [0.01, \n",
    "                  0.001, \n",
    "                  0.0001]\n",
    "\n",
    "weight_decays = [0.001, 0.0001, 0.00001]\n",
    "\n",
    "best_hyperparams, best_val_loss = random_search(D0, Dt, \n",
    "                                                NN_layers, \n",
    "                                                learning_rates, \n",
    "                                                weight_decays, \n",
    "                                                batch_size = 200,\n",
    "                                                search_iterations=15)\n",
    "\n",
    "print(\" \")\n",
    "print(\"The best hyperparameters are:\", best_hyperparams)\n",
    "print(\"The best validation loss is:\",  best_val_loss)\n",
    "print(\" \")\n"
   ]
  },
  {
   "cell_type": "code",
   "execution_count": 6,
   "id": "314c45f3",
   "metadata": {},
   "outputs": [
    {
     "name": "stdout",
     "output_type": "stream",
     "text": [
      "FNN layers: [2628  876    1]\n",
      "lr =  0.0001\n",
      "wd =  0.0001\n"
     ]
    },
    {
     "name": "stderr",
     "output_type": "stream",
     "text": [
      "  0%|          | 0/200 [00:00<?, ?it/s]"
     ]
    },
    {
     "name": "stderr",
     "output_type": "stream",
     "text": [
      "100%|██████████| 200/200 [00:23<00:00,  8.62it/s]\n"
     ]
    }
   ],
   "source": [
    "NNnodes =  best_hyperparams['nodes']\n",
    "print(\"FNN layers:\", NNnodes)\n",
    "\n",
    "lr      = best_hyperparams['learning_rate'] \n",
    "print(\"lr = \", lr)\n",
    "\n",
    "wd = best_hyperparams['weight_decay']\n",
    "print(\"wd = \", wd)\n",
    "\n",
    "np.savetxt(out_isokann + 'NNnodes.txt', NNnodes)\n",
    "\n",
    "# Define the interpolating function\n",
    "f_NN = NeuralNetwork( Nodes = np.asarray(NNnodes) ).to(device)\n",
    "\n",
    "# Apply the power method using the best hyperparameters\n",
    "train_LOSS, val_LOSS, best_loss = power_method(D0, Dt, \n",
    "                                               f_NN, \n",
    "                                               scale_and_shift, \n",
    "                                               Niters = 200, \n",
    "                                               Nepochs = 20,\n",
    "                                               tolerance  = 5e-4, \n",
    "                                               lr = lr,\n",
    "                                               wd=wd,\n",
    "                                               batch_size = 200,  \n",
    "                                               print_eta  = True\n",
    "                                              )"
   ]
  },
  {
   "cell_type": "code",
   "execution_count": 15,
   "id": "70ed6087-ab81-4a56-8bb0-a5fd68e368b2",
   "metadata": {},
   "outputs": [
    {
     "data": {
      "image/png": "[encoded data removed]",
      "text/plain": [
       "<Figure size 629.921x314.961 with 2 Axes>"
      ]
     },
     "metadata": {},
     "output_type": "display_data"
    }
   ],
   "source": [
    "npX0 = D0.cpu().detach().numpy()\n",
    "chi  = f_NN(D0).cpu().detach().numpy()\n",
    "\n",
    "fig, ax = plt.subplots(1, 2, figsize=(16*in2cm, 8*in2cm), facecolor='white')\n",
    "\n",
    "\n",
    "pos = ax[0].scatter( chi, R0, c = chi,  cmap = cm.bwr , s = 5 )\n",
    "\n",
    "ax[0].set_title('$\\chi$-function')\n",
    "ax[0].set_xlim((0,1))\n",
    "ax[0].set_ylim(0,2)\n",
    "ax[0].set_ylabel('r')\n",
    "ax[0].set_xlabel(r'$\\chi$')\n",
    "\n",
    "\n",
    "ax[1].plot(train_LOSS, label='train loss')\n",
    "ax[1].plot(val_LOSS, label='validation loss')\n",
    "ax[1].semilogy()\n",
    "ax[1].set_xlabel('Epoch')\n",
    "ax[1].set_title('Loss functions')\n",
    "ax[1].legend()\n",
    "\n",
    "plt.subplots_adjust(left=0, bottom=0, right=1, top=1, wspace=0.2, hspace=0.5)\n",
    "#fig.savefig('chi.png', format='png', dpi=900, bbox_inches='tight')"
   ]
  },
  {
   "cell_type": "code",
   "execution_count": 12,
   "id": "0bbf4829-cdae-4d5d-b35f-040c6a853bbf",
   "metadata": {},
   "outputs": [],
   "source": [
    "pt.save(f_NN.state_dict(), out_isokann  + 'f_NN.pt')\n",
    "np.savetxt(out_isokann  + 'val_LOSS.txt', val_LOSS)\n",
    "np.savetxt(out_isokann  + 'train_LOSS.txt', train_LOSS)\n",
    "np.savetxt(out_isokann + 'chi0_.txt', chi)\n",
    "\n",
    "# Calculate propagated chi\n",
    "#chit = f_NN(Xtau).cpu().detach().numpy()\n",
    "#np.save(out_isokann + 'chit.npy', chit)\n"
   ]
  }
 ],
 "metadata": {
  "kernelspec": {
   "display_name": "emma32",
   "language": "python",
   "name": "python3"
  },
  "language_info": {
   "codemirror_mode": {
    "name": "ipython",
    "version": 3
   },
   "file_extension": ".py",
   "mimetype": "text/x-python",
   "name": "python",
   "nbconvert_exporter": "python",
   "pygments_lexer": "ipython3",
   "version": "3.11.8"
  }
 },
 "nbformat": 4,
 "nbformat_minor": 5
}
