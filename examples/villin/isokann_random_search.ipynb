{
 "cells": [
  {
   "cell_type": "code",
   "execution_count": 1,
   "id": "7b4795f3",
   "metadata": {},
   "outputs": [
    {
     "name": "stdout",
     "output_type": "stream",
     "text": [
      "Created variables:\n",
      "inp_dir = input/\n",
      "out_trajectories1 = output/trajectories/\n",
      "out_trajectories2 = output/trajectories/openmm_files/\n",
      "out_trajectories3 = output/trajectories/openmm_files/initial_states/\n",
      "out_trajectories4 = output/trajectories/openmm_files/final_states/\n",
      "out_isokann = output/isokann/\n",
      "out_mokito = output/mokito/\n",
      "\n",
      "cuda\n"
     ]
    }
   ],
   "source": [
    "import numpy as np\n",
    "import sympy as sp\n",
    "import matplotlib.pyplot as plt\n",
    "import matplotlib.cm as cm\n",
    "\n",
    "import sys\n",
    "import os\n",
    "import torch as pt\n",
    "from tqdm import tqdm\n",
    "\n",
    "# Add the project root\n",
    "sys.path.append(os.path.abspath('../../'))\n",
    "\n",
    "from src.useful_functions import read_dirs_paths\n",
    "from src.isokann.modules3 import *\n",
    "\n",
    "# For matplotlib\n",
    "font = {'size'   : 10}\n",
    "plt.rc('font', **font)\n",
    "in2cm = 1/2.54  # centimeters in inches\n",
    "\n",
    "# For reproducibility\n",
    "np.random.seed(0)\n",
    "pt.manual_seed(0)\n",
    "\n",
    "# Read directory paths\n",
    "read_dirs_paths('dir_paths.txt', globals())\n",
    "\n",
    "device = pt.device(\"cuda\" if pt.cuda.is_available() else \"cpu\")\n",
    "print(\"\")\n",
    "print(device)\n"
   ]
  },
  {
   "cell_type": "code",
   "execution_count": 2,
   "id": "558510dc-fb1d-41d0-bb1d-b98df11b5609",
   "metadata": {},
   "outputs": [
    {
     "name": "stdout",
     "output_type": "stream",
     "text": [
      "torch.Size([6000, 10, 1716])\n"
     ]
    }
   ],
   "source": [
    "# Load initial and final states and convert to torch\n",
    "D0 = pt.load(out_trajectories1 + 'BAT_0.pt', map_location=device)\n",
    "DT = pt.load(out_trajectories1 + 'BAT_t.pt', map_location=device)\n",
    "\n",
    "Npoints = D0.shape[0]\n",
    "Ndims   = D0.shape[1]\n",
    "\n",
    "Nfinpoints  = DT.shape[1]\n",
    "Nframes     = DT.shape[3]\n",
    "\n",
    "\n",
    "frame = 9\n",
    "Dt = pt.clone(DT[frame,:,:,:])\n",
    "\n",
    "print(Dt.shape)"
   ]
  },
  {
   "cell_type": "code",
   "execution_count": 3,
   "id": "7587632a-c01c-4509-b911-0a570d7e5c17",
   "metadata": {},
   "outputs": [
    {
     "name": "stderr",
     "output_type": "stream",
     "text": [
      "  0%|          | 0/30 [00:00<?, ?it/s]"
     ]
    },
    {
     "name": "stdout",
     "output_type": "stream",
     "text": [
      " \n",
      "Nepochs = 10\n",
      "Nodes = [1716  858  429    1]\n",
      "Learning rate = 0.01\n",
      "Weight decay = 0.005\n",
      "Batch size = 200\n",
      "Patience = 3\n",
      "Activation function = leakyrelu\n",
      "Validation loss: "
     ]
    },
    {
     "name": "stderr",
     "output_type": "stream",
     "text": [
      "  3%|▎         | 1/30 [00:24<11:55, 24.66s/it]"
     ]
    },
    {
     "name": "stdout",
     "output_type": "stream",
     "text": [
      "tensor(0.0006, device='cuda:0')\n",
      "Convergence: 1.000576081598026\n",
      " \n",
      "Nepochs = 10\n",
      "Nodes = [1716  858  429    1]\n",
      "Learning rate = 0.005\n",
      "Weight decay = 0.0001\n",
      "Batch size = 50\n",
      "Patience = 5\n",
      "Activation function = leakyrelu\n"
     ]
    },
    {
     "name": "stderr",
     "output_type": "stream",
     "text": [
      "  7%|▋         | 2/30 [00:49<11:31, 24.70s/it]"
     ]
    },
    {
     "name": "stdout",
     "output_type": "stream",
     "text": [
      "Validation loss: tensor(0.0017, device='cuda:0')\n",
      "Convergence: 1.0000629913987413\n",
      " \n",
      "Nepochs = 10\n",
      "Nodes = [1716 1144  572    1]\n",
      "Learning rate = 0.01\n",
      "Weight decay = 0.0001\n",
      "Batch size = 100\n",
      "Patience = 5\n",
      "Activation function = leakyrelu\n"
     ]
    },
    {
     "name": "stderr",
     "output_type": "stream",
     "text": [
      " 10%|█         | 3/30 [00:57<07:41, 17.11s/it]"
     ]
    },
    {
     "name": "stdout",
     "output_type": "stream",
     "text": [
      "Validation loss: tensor(0.0025, device='cuda:0')\n",
      "Convergence: 1.0007149004410494\n",
      " \n",
      "Nepochs = 10\n",
      "Nodes = [1716 1144    1]\n",
      "Learning rate = 0.001\n",
      "Weight decay = 0.001\n",
      "Batch size = 200\n",
      "Patience = 3\n",
      "Activation function = leakyrelu\n"
     ]
    },
    {
     "name": "stderr",
     "output_type": "stream",
     "text": [
      " 13%|█▎        | 4/30 [01:03<05:28, 12.62s/it]"
     ]
    },
    {
     "name": "stdout",
     "output_type": "stream",
     "text": [
      "Validation loss: tensor(0.0052, device='cuda:0')\n",
      "Convergence: 0.9997739816854395\n",
      " \n",
      "Nepochs = 15\n",
      "Nodes = [1716 1144    1]\n",
      "Learning rate = 0.005\n",
      "Weight decay = 0.005\n",
      "Batch size = 100\n",
      "Patience = 5\n",
      "Activation function = leakyrelu\n"
     ]
    },
    {
     "name": "stderr",
     "output_type": "stream",
     "text": [
      " 17%|█▋        | 5/30 [01:08<04:10, 10.02s/it]"
     ]
    },
    {
     "name": "stdout",
     "output_type": "stream",
     "text": [
      "Validation loss: tensor(0.0023, device='cuda:0')\n",
      "Convergence: 1.0005214851817672\n",
      " \n",
      "Nepochs = 15\n",
      "Nodes = [1716  858  429    1]\n",
      "Learning rate = 0.005\n",
      "Weight decay = 0.0001\n",
      "Batch size = 100\n",
      "Patience = 2\n",
      "Activation function = leakyrelu\n"
     ]
    },
    {
     "name": "stderr",
     "output_type": "stream",
     "text": [
      " 20%|██        | 6/30 [01:29<05:29, 13.74s/it]"
     ]
    },
    {
     "name": "stdout",
     "output_type": "stream",
     "text": [
      "Validation loss: tensor(0.0021, device='cuda:0')\n",
      "Convergence: 1.0000119413453246\n",
      " \n",
      "Nepochs = 5\n",
      "Nodes = [1716  858  429    1]\n",
      "Learning rate = 0.001\n",
      "Weight decay = 0.0001\n",
      "Batch size = 200\n",
      "Patience = 2\n",
      "Activation function = leakyrelu\n"
     ]
    },
    {
     "name": "stderr",
     "output_type": "stream",
     "text": [
      " 23%|██▎       | 7/30 [01:40<04:55, 12.85s/it]"
     ]
    },
    {
     "name": "stdout",
     "output_type": "stream",
     "text": [
      "Validation loss: tensor(0.0023, device='cuda:0')\n",
      "Convergence: 1.0004817891044278\n",
      " \n",
      "Nepochs = 10\n",
      "Nodes = [1716 1144  572    1]\n",
      "Learning rate = 0.001\n",
      "Weight decay = 0.005\n",
      "Batch size = 200\n",
      "Patience = 2\n",
      "Activation function = leakyrelu\n"
     ]
    },
    {
     "name": "stderr",
     "output_type": "stream",
     "text": [
      " 27%|██▋       | 8/30 [01:51<04:32, 12.39s/it]"
     ]
    },
    {
     "name": "stdout",
     "output_type": "stream",
     "text": [
      "Validation loss: tensor(0.0023, device='cuda:0')\n",
      "Convergence: 1.0006567863800373\n",
      " \n",
      "Nepochs = 15\n",
      "Nodes = [1716 1144  572    1]\n",
      "Learning rate = 0.01\n",
      "Weight decay = 0.001\n",
      "Batch size = 200\n",
      "Patience = 3\n",
      "Activation function = leakyrelu\n"
     ]
    },
    {
     "name": "stderr",
     "output_type": "stream",
     "text": [
      " 30%|███       | 9/30 [02:34<07:36, 21.72s/it]"
     ]
    },
    {
     "name": "stdout",
     "output_type": "stream",
     "text": [
      "Validation loss: tensor(0.0008, device='cuda:0')\n",
      "Convergence: 1.000785004039374\n",
      " \n",
      "Nepochs = 5\n",
      "Nodes = [1716  858    1]\n",
      "Learning rate = 0.001\n",
      "Weight decay = 0.005\n",
      "Batch size = 50\n",
      "Patience = 3\n",
      "Activation function = leakyrelu\n"
     ]
    },
    {
     "name": "stderr",
     "output_type": "stream",
     "text": [
      " 33%|███▎      | 10/30 [02:39<05:33, 16.69s/it]"
     ]
    },
    {
     "name": "stdout",
     "output_type": "stream",
     "text": [
      "Validation loss: tensor(0.0050, device='cuda:0')\n",
      "Convergence: 1.000953645867602\n",
      " \n",
      "Nepochs = 15\n",
      "Nodes = [1716 1144    1]\n",
      "Learning rate = 0.001\n",
      "Weight decay = 0.005\n",
      "Batch size = 200\n",
      "Patience = 2\n",
      "Activation function = leakyrelu\n"
     ]
    },
    {
     "name": "stderr",
     "output_type": "stream",
     "text": [
      " 37%|███▋      | 11/30 [02:49<04:36, 14.55s/it]"
     ]
    },
    {
     "name": "stdout",
     "output_type": "stream",
     "text": [
      "Validation loss: tensor(0.0047, device='cuda:0')\n",
      "Convergence: 1.0007917339234444\n",
      " \n",
      "Nepochs = 10\n",
      "Nodes = [1716 1144    1]\n",
      "Learning rate = 0.001\n",
      "Weight decay = 0.005\n",
      "Batch size = 100\n",
      "Patience = 5\n",
      "Activation function = leakyrelu\n"
     ]
    },
    {
     "name": "stderr",
     "output_type": "stream",
     "text": [
      " 40%|████      | 12/30 [02:53<03:23, 11.28s/it]"
     ]
    },
    {
     "name": "stdout",
     "output_type": "stream",
     "text": [
      "Validation loss: tensor(0.0069, device='cuda:0')\n",
      "Convergence: 0.9995016013190873\n",
      " \n",
      "Nepochs = 10\n",
      "Nodes = [1716 1144  572    1]\n",
      "Learning rate = 0.01\n",
      "Weight decay = 0.001\n",
      "Batch size = 50\n",
      "Patience = 5\n",
      "Activation function = leakyrelu\n"
     ]
    },
    {
     "name": "stderr",
     "output_type": "stream",
     "text": [
      " 43%|████▎     | 13/30 [03:07<03:30, 12.36s/it]"
     ]
    },
    {
     "name": "stdout",
     "output_type": "stream",
     "text": [
      "Validation loss: tensor(0.0019, device='cuda:0')\n",
      "Convergence: 1.0002299790945086\n",
      " \n",
      "Nepochs = 10\n",
      "Nodes = [1716 1144    1]\n",
      "Learning rate = 0.01\n",
      "Weight decay = 0.0001\n",
      "Batch size = 50\n",
      "Patience = 2\n",
      "Activation function = leakyrelu\n"
     ]
    },
    {
     "name": "stderr",
     "output_type": "stream",
     "text": [
      " 47%|████▋     | 14/30 [03:31<04:13, 15.84s/it]"
     ]
    },
    {
     "name": "stdout",
     "output_type": "stream",
     "text": [
      "Validation loss: inf\n",
      "Convergence: nan\n",
      " \n",
      "Nepochs = 5\n",
      "Nodes = [1716  858  429    1]\n",
      "Learning rate = 0.001\n",
      "Weight decay = 0.0001\n",
      "Batch size = 100\n",
      "Patience = 5\n",
      "Activation function = leakyrelu\n"
     ]
    },
    {
     "name": "stderr",
     "output_type": "stream",
     "text": [
      " 50%|█████     | 15/30 [03:44<03:41, 14.77s/it]"
     ]
    },
    {
     "name": "stdout",
     "output_type": "stream",
     "text": [
      "Validation loss: tensor(0.0025, device='cuda:0')\n",
      "Convergence: 1.0008842791495132\n",
      " \n",
      "Nepochs = 5\n",
      "Nodes = [1716  858  429    1]\n",
      "Learning rate = 0.001\n",
      "Weight decay = 0.005\n",
      "Batch size = 100\n",
      "Patience = 3\n",
      "Activation function = leakyrelu\n"
     ]
    },
    {
     "name": "stderr",
     "output_type": "stream",
     "text": [
      " 53%|█████▎    | 16/30 [03:53<03:02, 13.07s/it]"
     ]
    },
    {
     "name": "stdout",
     "output_type": "stream",
     "text": [
      "Validation loss: tensor(0.0029, device='cuda:0')\n",
      "Convergence: 0.999211496116439\n",
      " \n",
      "Nepochs = 5\n",
      "Nodes = [1716  858    1]\n",
      "Learning rate = 0.001\n",
      "Weight decay = 0.001\n",
      "Batch size = 100\n",
      "Patience = 5\n",
      "Activation function = leakyrelu\n"
     ]
    },
    {
     "name": "stderr",
     "output_type": "stream",
     "text": [
      " 57%|█████▋    | 17/30 [04:03<02:38, 12.18s/it]"
     ]
    },
    {
     "name": "stdout",
     "output_type": "stream",
     "text": [
      "Validation loss: tensor(0.0049, device='cuda:0')\n",
      "Convergence: 0.9991729717184048\n",
      " \n",
      "Nepochs = 5\n",
      "Nodes = [1716 1144  572    1]\n",
      "Learning rate = 0.01\n",
      "Weight decay = 0.0001\n",
      "Batch size = 100\n",
      "Patience = 2\n",
      "Activation function = leakyrelu\n"
     ]
    },
    {
     "name": "stderr",
     "output_type": "stream",
     "text": [
      " 60%|██████    | 18/30 [04:12<02:15, 11.31s/it]"
     ]
    },
    {
     "name": "stdout",
     "output_type": "stream",
     "text": [
      "Validation loss: tensor(0.0017, device='cuda:0')\n",
      "Convergence: 1.0002286195660746\n",
      " \n",
      "Nepochs = 10\n",
      "Nodes = [1716 1144  572    1]\n",
      "Learning rate = 0.005\n",
      "Weight decay = 0.005\n",
      "Batch size = 50\n",
      "Patience = 2\n",
      "Activation function = leakyrelu\n"
     ]
    },
    {
     "name": "stderr",
     "output_type": "stream",
     "text": [
      " 63%|██████▎   | 19/30 [04:56<03:52, 21.13s/it]"
     ]
    },
    {
     "name": "stdout",
     "output_type": "stream",
     "text": [
      "Validation loss: tensor(0.0007, device='cuda:0')\n",
      "Convergence: 0.9997052346377905\n",
      " \n",
      "Nepochs = 15\n",
      "Nodes = [1716 1144  572    1]\n",
      "Learning rate = 0.01\n",
      "Weight decay = 0.0001\n",
      "Batch size = 200\n",
      "Patience = 5\n",
      "Activation function = leakyrelu\n"
     ]
    },
    {
     "name": "stderr",
     "output_type": "stream",
     "text": [
      " 67%|██████▋   | 20/30 [05:06<02:57, 17.76s/it]"
     ]
    },
    {
     "name": "stdout",
     "output_type": "stream",
     "text": [
      "Validation loss: tensor(0.0017, device='cuda:0')\n",
      "Convergence: 0.9992535393726272\n",
      " \n",
      "Nepochs = 5\n",
      "Nodes = [1716 1144    1]\n",
      "Learning rate = 0.001\n",
      "Weight decay = 0.001\n",
      "Batch size = 200\n",
      "Patience = 5\n",
      "Activation function = leakyrelu\n"
     ]
    },
    {
     "name": "stderr",
     "output_type": "stream",
     "text": [
      " 70%|███████   | 21/30 [05:08<01:56, 12.92s/it]"
     ]
    },
    {
     "name": "stdout",
     "output_type": "stream",
     "text": [
      "Validation loss: tensor(0.0080, device='cuda:0')\n",
      "Convergence: 0.999395657896153\n",
      " \n",
      "Nepochs = 10\n",
      "Nodes = [1716 1144    1]\n",
      "Learning rate = 0.005\n",
      "Weight decay = 0.001\n",
      "Batch size = 50\n",
      "Patience = 5\n",
      "Activation function = leakyrelu\n"
     ]
    },
    {
     "name": "stderr",
     "output_type": "stream",
     "text": [
      " 73%|███████▎  | 22/30 [05:39<02:26, 18.35s/it]"
     ]
    },
    {
     "name": "stdout",
     "output_type": "stream",
     "text": [
      "Validation loss: tensor(0.0013, device='cuda:0')\n",
      "Convergence: 1.0009430437085822\n",
      " \n",
      "Nepochs = 5\n",
      "Nodes = [1716 1144  572    1]\n",
      "Learning rate = 0.001\n",
      "Weight decay = 0.001\n",
      "Batch size = 100\n",
      "Patience = 2\n",
      "Activation function = leakyrelu\n"
     ]
    },
    {
     "name": "stderr",
     "output_type": "stream",
     "text": [
      " 77%|███████▋  | 23/30 [06:00<02:15, 19.36s/it]"
     ]
    },
    {
     "name": "stdout",
     "output_type": "stream",
     "text": [
      "Validation loss: tensor(0.0018, device='cuda:0')\n",
      "Convergence: 1.0000197205601273\n",
      " \n",
      "Nepochs = 15\n",
      "Nodes = [1716 1144    1]\n",
      "Learning rate = 0.001\n",
      "Weight decay = 0.005\n",
      "Batch size = 200\n",
      "Patience = 2\n",
      "Activation function = leakyrelu\n"
     ]
    },
    {
     "name": "stderr",
     "output_type": "stream",
     "text": [
      " 80%|████████  | 24/30 [06:06<01:31, 15.24s/it]"
     ]
    },
    {
     "name": "stdout",
     "output_type": "stream",
     "text": [
      "Validation loss: tensor(0.0052, device='cuda:0')\n",
      "Convergence: 0.999812784164082\n",
      " \n",
      "Nepochs = 5\n",
      "Nodes = [1716 1144  572    1]\n",
      "Learning rate = 0.01\n",
      "Weight decay = 0.0001\n",
      "Batch size = 100\n",
      "Patience = 3\n",
      "Activation function = leakyrelu\n"
     ]
    },
    {
     "name": "stderr",
     "output_type": "stream",
     "text": [
      " 83%|████████▎ | 25/30 [06:10<00:59, 11.98s/it]"
     ]
    },
    {
     "name": "stdout",
     "output_type": "stream",
     "text": [
      "Validation loss: tensor(0.0021, device='cuda:0')\n",
      "Convergence: 1.0006710598739863\n",
      " \n",
      "Nepochs = 5\n",
      "Nodes = [1716 1144    1]\n",
      "Learning rate = 0.001\n",
      "Weight decay = 0.005\n",
      "Batch size = 50\n",
      "Patience = 5\n",
      "Activation function = leakyrelu\n"
     ]
    },
    {
     "name": "stderr",
     "output_type": "stream",
     "text": [
      " 87%|████████▋ | 26/30 [06:14<00:37,  9.39s/it]"
     ]
    },
    {
     "name": "stdout",
     "output_type": "stream",
     "text": [
      "Validation loss: tensor(0.0070, device='cuda:0')\n",
      "Convergence: 1.0009453706367248\n",
      " \n",
      "Nepochs = 15\n",
      "Nodes = [1716  858  429    1]\n",
      "Learning rate = 0.01\n",
      "Weight decay = 0.005\n",
      "Batch size = 100\n",
      "Patience = 5\n",
      "Activation function = leakyrelu\n"
     ]
    },
    {
     "name": "stderr",
     "output_type": "stream",
     "text": [
      " 90%|█████████ | 27/30 [06:48<00:50, 16.83s/it]"
     ]
    },
    {
     "name": "stdout",
     "output_type": "stream",
     "text": [
      "Validation loss: tensor(0.0005, device='cuda:0')\n",
      "Convergence: 1.0009260260518476\n",
      " \n",
      "Nepochs = 15\n",
      "Nodes = [1716 1144  572    1]\n",
      "Learning rate = 0.001\n",
      "Weight decay = 0.0001\n",
      "Batch size = 50\n",
      "Patience = 2\n",
      "Activation function = leakyrelu\n"
     ]
    },
    {
     "name": "stderr",
     "output_type": "stream",
     "text": [
      " 93%|█████████▎| 28/30 [07:32<00:49, 24.85s/it]"
     ]
    },
    {
     "name": "stdout",
     "output_type": "stream",
     "text": [
      "Validation loss: tensor(0.0023, device='cuda:0')\n",
      "Convergence: 1.0008726987183822\n",
      " \n",
      "Nepochs = 5\n",
      "Nodes = [1716  858    1]\n",
      "Learning rate = 0.001\n",
      "Weight decay = 0.005\n",
      "Batch size = 50\n",
      "Patience = 5\n",
      "Activation function = leakyrelu\n"
     ]
    },
    {
     "name": "stderr",
     "output_type": "stream",
     "text": [
      " 97%|█████████▋| 29/30 [07:36<00:18, 18.84s/it]"
     ]
    },
    {
     "name": "stdout",
     "output_type": "stream",
     "text": [
      "Validation loss: tensor(0.0063, device='cuda:0')\n",
      "Convergence: 0.99983538887892\n",
      " \n",
      "Nepochs = 15\n",
      "Nodes = [1716 1144  572    1]\n",
      "Learning rate = 0.01\n",
      "Weight decay = 0.005\n",
      "Batch size = 200\n",
      "Patience = 3\n",
      "Activation function = leakyrelu\n"
     ]
    },
    {
     "name": "stderr",
     "output_type": "stream",
     "text": [
      "100%|██████████| 30/30 [07:45<00:00, 15.50s/it]"
     ]
    },
    {
     "name": "stdout",
     "output_type": "stream",
     "text": [
      "Validation loss: tensor(0.0012, device='cuda:0')\n",
      "Convergence: 1.0007163770039467\n",
      "The best hyperparameters are: {'Nepochs': 15, 'nodes': array([1716,  858,  429,    1]), 'learning_rate': 0.01, 'weight_decay': 0.005, 'batch_size': 100, 'patience': 5, 'act_fun': 'leakyrelu'}\n",
      "The best validation loss is: tensor(0.0005, device='cuda:0')\n"
     ]
    },
    {
     "name": "stderr",
     "output_type": "stream",
     "text": [
      "\n"
     ]
    }
   ],
   "source": [
    "NN_epochs = [5, 10 ,15]\n",
    "\n",
    "\n",
    "NN_nodes =          [(Ndims, int(2*Ndims/3), 1), \n",
    "                      (Ndims, int(2*Ndims/3), int(Ndims/3), 1),\n",
    "                      (Ndims, int(Ndims/2), 1), \n",
    "                      (Ndims, int(Ndims/2),int(Ndims/4), 1)]\n",
    "\n",
    "NN_lr = [ 0.01,\n",
    "          0.005,\n",
    "          0.001]\n",
    "\n",
    "NN_wd  = [ 0.001,\n",
    "           0.005,\n",
    "           0.0001]\n",
    "\n",
    "NN_bs  = [50, 100, 200]\n",
    "\n",
    "NN_patience = [2, 3, 5]\n",
    "\n",
    "NN_act_fun = ['leakyrelu']\n",
    "\n",
    "best_hyperparams, best_val_loss = random_search(D0,\n",
    "                                                Dt,\n",
    "                                                NN_epochs,\n",
    "                                                NN_nodes,\n",
    "                                                NN_lr,\n",
    "                                                NN_wd,\n",
    "                                                NN_bs,\n",
    "                                                NN_patience,\n",
    "                                                NN_act_fun, \n",
    "                                                search_iterations=30, #15\n",
    "                                                test_size = 0.2)\n",
    "\n",
    "\n",
    "print(\"The best hyperparameters are:\", best_hyperparams)\n",
    "print(\"The best validation loss is:\",  best_val_loss)\n",
    "\n"
   ]
  },
  {
   "cell_type": "code",
   "execution_count": 4,
   "id": "f5a8fbc0",
   "metadata": {},
   "outputs": [],
   "source": [
    "import pickle\n",
    "# Save to a file\n",
    "with open(out_isokann + 'hyperparameters.pkl', 'wb') as file:\n",
    "    pickle.dump(best_hyperparams, file)"
   ]
  }
 ],
 "metadata": {
  "kernelspec": {
   "display_name": "emma32",
   "language": "python",
   "name": "python3"
  },
  "language_info": {
   "codemirror_mode": {
    "name": "ipython",
    "version": 3
   },
   "file_extension": ".py",
   "mimetype": "text/x-python",
   "name": "python",
   "nbconvert_exporter": "python",
   "pygments_lexer": "ipython3",
   "version": "3.11.8"
  }
 },
 "nbformat": 4,
 "nbformat_minor": 5
}
