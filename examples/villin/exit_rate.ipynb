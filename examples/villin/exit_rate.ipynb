{
 "cells": [
  {
   "cell_type": "code",
   "execution_count": 1,
   "id": "7b4795f3",
   "metadata": {},
   "outputs": [
    {
     "name": "stdout",
     "output_type": "stream",
     "text": [
      "Created variables:\n",
      "inp_dir = input/\n",
      "out_trajectories1 = output/trajectories/\n",
      "out_trajectories2 = output/trajectories/openmm_files/\n",
      "out_trajectories3 = output/trajectories/openmm_files/initial_states/\n",
      "out_trajectories4 = output/trajectories/openmm_files/final_states/\n",
      "out_trajectories5 = output/trajectories/openmm_files/final_states_nh/\n",
      "out_isokann = output/isokann/\n",
      "out_mokito = output/mokito/\n",
      "\n",
      "cuda\n"
     ]
    }
   ],
   "source": [
    "import numpy as np\n",
    "import sympy as sp\n",
    "import matplotlib.pyplot as plt\n",
    "import matplotlib.cm as cm\n",
    "import pickle \n",
    "\n",
    "import sys\n",
    "import os\n",
    "import torch as pt\n",
    "from tqdm import tqdm\n",
    "\n",
    "# Add the project root\n",
    "sys.path.append(os.path.abspath('../../'))\n",
    "\n",
    "from src.useful_functions import read_dirs_paths\n",
    "from src.isokann.modules3 import *\n",
    "\n",
    "# For matplotlib\n",
    "font = {'size'   : 10}\n",
    "plt.rc('font', **font)\n",
    "in2cm = 1/2.54  # centimeters in inches\n",
    "\n",
    "# For reproducibility\n",
    "np.random.seed(0)\n",
    "pt.manual_seed(0)\n",
    "\n",
    "# Read directory paths\n",
    "read_dirs_paths('dir_paths.txt', globals())\n",
    "\n",
    "device = pt.device(\"cuda\" if pt.cuda.is_available() else \"cpu\")\n",
    "print(\"\")\n",
    "print(device)\n"
   ]
  },
  {
   "cell_type": "code",
   "execution_count": 2,
   "id": "558510dc-fb1d-41d0-bb1d-b98df11b5609",
   "metadata": {},
   "outputs": [
    {
     "name": "stdout",
     "output_type": "stream",
     "text": [
      "The best hyperparameters are: {'Nepochs': 15, 'nodes': array([1716,  858,  429,    1]), 'learning_rate': 0.01, 'weight_decay': 0.005, 'batch_size': 100, 'patience': 5, 'act_fun': 'leakyrelu'}\n"
     ]
    }
   ],
   "source": [
    "# Load initial and final states and convert to torch\n",
    "D0 = pt.load(out_trajectories1 + 'BAT_0.pt', map_location=device)\n",
    "DT = pt.load(out_trajectories1 + 'BAT_t.pt', map_location=device)\n",
    "\n",
    "Npoints = D0.shape[0]\n",
    "Ndims   = D0.shape[1]\n",
    "\n",
    "Nfinpoints  = DT.shape[1]\n",
    "Nframes     = DT.shape[0]\n",
    "\n",
    "\n",
    "# Load from the file\n",
    "with open(out_isokann + 'hyperparameters.pkl', 'rb') as file:\n",
    "    best_hyperparams = pickle.load(file)\n",
    "\n",
    "\n",
    "print(\"The best hyperparameters are:\", best_hyperparams)\n"
   ]
  },
  {
   "cell_type": "code",
   "execution_count": 3,
   "id": "1efa7524",
   "metadata": {},
   "outputs": [
    {
     "name": "stderr",
     "output_type": "stream",
     "text": [
      "  0%|          | 0/3 [00:00<?, ?it/s]/scratch/htc/ldonati/anaconda32/envs/emma32/lib/python3.11/site-packages/numpy/lib/function_base.py:2897: RuntimeWarning: invalid value encountered in divide\n",
      "  c /= stddev[:, None]\n",
      "/scratch/htc/ldonati/anaconda32/envs/emma32/lib/python3.11/site-packages/numpy/lib/function_base.py:2898: RuntimeWarning: invalid value encountered in divide\n",
      "  c /= stddev[None, :]\n",
      " 33%|███▎      | 1/3 [00:15<00:31, 15.82s/it]"
     ]
    },
    {
     "name": "stdout",
     "output_type": "stream",
     "text": [
      "Slope $\\chi$: 0.9862509179453686\n",
      "Intercept $\\chi$: 0.007006191137900131\n",
      " \n",
      "Slope $1-\\chi$: 0.9862509179453688\n",
      "Intercept $1-\\chi$: 0.006742890916731303\n",
      " \n",
      "Exit rate 1: 0.008487093141178603\n",
      "Exit rate 2: 0.008818501958071363\n",
      " \n",
      "Rate matrix:\n",
      "[[-0.00848709  0.00848709]\n",
      " [ 0.0088185  -0.0088185 ]]\n"
     ]
    },
    {
     "name": "stderr",
     "output_type": "stream",
     "text": [
      " 67%|██████▋   | 2/3 [00:57<00:31, 31.00s/it]"
     ]
    },
    {
     "name": "stdout",
     "output_type": "stream",
     "text": [
      "Slope $\\chi$: 0.98725685061814\n",
      "Intercept $\\chi$: 0.006095556060150886\n",
      " \n",
      "Slope $1-\\chi$: 0.98725685061814\n",
      "Intercept $1-\\chi$: 0.0066475933217092775\n",
      " \n",
      "Exit rate 1: 0.007433680292228422\n",
      "Exit rate 2: 0.006816363872100715\n",
      " \n",
      "Rate matrix:\n",
      "[[-0.00743368  0.00743368]\n",
      " [ 0.00681636 -0.00681636]]\n"
     ]
    },
    {
     "name": "stderr",
     "output_type": "stream",
     "text": [
      "100%|██████████| 3/3 [01:31<00:00, 30.52s/it]"
     ]
    },
    {
     "name": "stdout",
     "output_type": "stream",
     "text": [
      "Slope $\\chi$: 0.9854987684546078\n",
      "Intercept $\\chi$: 0.00819627716893867\n",
      " \n",
      "Slope $1-\\chi$: 0.985498768454608\n",
      "Intercept $1-\\chi$: 0.006304954376453398\n",
      " \n",
      "Exit rate 1: 0.006351115988412398\n",
      "Exit rate 2: 0.008256286067273026\n",
      " \n",
      "Rate matrix:\n",
      "[[-0.00635112  0.00635112]\n",
      " [ 0.00825629 -0.00825629]]\n"
     ]
    },
    {
     "name": "stderr",
     "output_type": "stream",
     "text": [
      "\n"
     ]
    }
   ],
   "source": [
    "# Power method iterations\n",
    "Niters    = 400\n",
    "\n",
    "# NN hyperparameters\n",
    "Nepochs   = best_hyperparams['Nepochs']\n",
    "nodes     = best_hyperparams['nodes']\n",
    "lr        = best_hyperparams['learning_rate']\n",
    "wd        = best_hyperparams['weight_decay']\n",
    "bs        = best_hyperparams['batch_size']\n",
    "patience  = best_hyperparams['patience']\n",
    "act_fun   = best_hyperparams['act_fun']\n",
    "\n",
    "\n",
    "tolerance = 0.0001\n",
    "\n",
    "rates = np.zeros((Nframes, 2))\n",
    "\n",
    "tau = 500 * 0.002 /10\n",
    "\n",
    "for frame in tqdm(range(7,Nframes)): \n",
    "    Dt = pt.clone(DT[frame,:,:,:])\n",
    "\n",
    "    # Define the interpolating function\n",
    "    f_NN = NeuralNetwork( Nodes = np.asarray(nodes) ).to(device)\n",
    "\n",
    "    N = 10\n",
    "    chi_0 = np.zeros(Npoints)\n",
    "    chi_t = np.zeros(Npoints)\n",
    "    for _ in range(N):\n",
    "        train_LOSS, val_LOSS, best_loss, convergence = power_method(    D0, \n",
    "                                                                        Dt,\n",
    "                                                                        f_NN,\n",
    "                                                                        scale_and_shift,\n",
    "                                                                        Niters = Niters,\n",
    "                                                                        Nepochs = Nepochs,\n",
    "                                                                        tolerance  = tolerance,\n",
    "                                                                        lr = lr,\n",
    "                                                                        wd = wd,\n",
    "                                                                        batch_size = 300,\n",
    "                                                                        patience = patience,\n",
    "                                                                        print_eta  = False,\n",
    "                                                                        test_size = 0.2,\n",
    "                                                                        loss = 'full'\n",
    "                                                                    )\n",
    "\n",
    "        chi_   =  f_NN(D0).cpu().detach().numpy()\n",
    "        chi__  =  f_NN(Dt).cpu().detach().numpy()\n",
    "        chi__  =  np.mean( chi__, axis=1 )\n",
    "\n",
    "        if frame > 0:\n",
    "            if np.corrcoef(chi_0, chi_)[0,1]<0:\n",
    "                chi_ = 1 - chi_\n",
    "\n",
    "            if np.corrcoef(chi_0, chi__)[0,1]<0:\n",
    "                chi__ = 1 - chi__\n",
    "\n",
    "        chi_0 = chi_0 + chi_\n",
    "        chi_t = chi_t + chi__\n",
    "\n",
    "    chi_0 = chi_0 / N\n",
    "    chi_t = chi_t / N\n",
    "\n",
    "    r1, r2, q = exit_rates_from_chi((frame+1) * tau, chi_0, chi_t)\n",
    "    rates[frame,:] = r1, r2"
   ]
  },
  {
   "cell_type": "code",
   "execution_count": 4,
   "id": "eea02755",
   "metadata": {},
   "outputs": [
    {
     "data": {
      "text/plain": [
       "array([[0.        , 0.        ],\n",
       "       [0.        , 0.        ],\n",
       "       [0.        , 0.        ],\n",
       "       [0.        , 0.        ],\n",
       "       [0.        , 0.        ],\n",
       "       [0.        , 0.        ],\n",
       "       [0.        , 0.        ],\n",
       "       [0.00848709, 0.0088185 ],\n",
       "       [0.00743368, 0.00681636],\n",
       "       [0.00635112, 0.00825629]])"
      ]
     },
     "execution_count": 4,
     "metadata": {},
     "output_type": "execute_result"
    }
   ],
   "source": [
    "rates"
   ]
  },
  {
   "cell_type": "code",
   "execution_count": 5,
   "id": "a48904e3",
   "metadata": {},
   "outputs": [
    {
     "name": "stderr",
     "output_type": "stream",
     "text": [
      "/tmp/ipykernel_41984/3551393915.py:1: RuntimeWarning: divide by zero encountered in divide\n",
      "  plt.plot(1/rates,'.')\n"
     ]
    },
    {
     "data": {
      "text/plain": [
       "[<matplotlib.lines.Line2D at 0x7f2fc5106190>,\n",
       " <matplotlib.lines.Line2D at 0x7f2fc5104f90>]"
      ]
     },
     "execution_count": 5,
     "metadata": {},
     "output_type": "execute_result"
    },
    {
     "data": {
      "image/png": "[encoded data removed]",
      "text/plain": [
       "<Figure size 640x480 with 1 Axes>"
      ]
     },
     "metadata": {},
     "output_type": "display_data"
    }
   ],
   "source": [
    "plt.plot(1/rates,'.')"
   ]
  }
 ],
 "metadata": {
  "kernelspec": {
   "display_name": "emma32",
   "language": "python",
   "name": "python3"
  },
  "language_info": {
   "codemirror_mode": {
    "name": "ipython",
    "version": 3
   },
   "file_extension": ".py",
   "mimetype": "text/x-python",
   "name": "python",
   "nbconvert_exporter": "python",
   "pygments_lexer": "ipython3",
   "version": "3.11.8"
  }
 },
 "nbformat": 4,
 "nbformat_minor": 5
}
