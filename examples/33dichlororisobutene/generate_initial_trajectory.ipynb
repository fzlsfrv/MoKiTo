{
 "cells": [
  {
   "cell_type": "code",
   "execution_count": 1,
   "id": "8a9a7a1f",
   "metadata": {},
   "outputs": [
    {
     "name": "stdout",
     "output_type": "stream",
     "text": [
      "Created variables:\n",
      "inp_dir = input/\n",
      "out_trajectories1 = output/trajectories/\n",
      "out_trajectories2 = output/trajectories/openmm_files/\n",
      "out_trajectories3 = output/trajectories/openmm_files/initial_states/\n",
      "out_trajectories4 = output/trajectories/openmm_files/final_states/\n",
      "out_isokann = output/isokann/\n",
      "out_mokito = output/mokito/\n",
      "output/trajectories/ already exists!\n",
      "output/trajectories/openmm_files/ already exists!\n",
      "output/trajectories/openmm_files/initial_states/ already exists!\n",
      "output/trajectories/openmm_files/final_states/ already exists!\n",
      " \n",
      " \n"
     ]
    }
   ],
   "source": [
    "import numpy as np\n",
    "import sympy as sp\n",
    "import matplotlib.pyplot as plt\n",
    "import sys\n",
    "import os\n",
    "\n",
    "# Add the project root\n",
    "sys.path.append(os.path.abspath('../../'))\n",
    "\n",
    "from src.useful_functions import *\n",
    "from src.openmm.initial_trajectory_module import generate_initial_trajectory\n",
    "\n",
    "# For reproducibility\n",
    "np.random.seed(0)\n",
    "\n",
    "# For matplotlib\n",
    "font = {'size'   : 10}\n",
    "plt.rc('font', **font)\n",
    "in2cm = 1/2.54  # centimeters in inches\n",
    "\n",
    "# Read directory paths\n",
    "read_dirs_paths('dir_paths.txt', globals())\n",
    "check_directories(out_trajectories1 ,out_trajectories2 ,out_trajectories3 ,out_trajectories4)"
   ]
  },
  {
   "cell_type": "code",
   "execution_count": 7,
   "id": "a612a667",
   "metadata": {},
   "outputs": [
    {
     "name": "stdout",
     "output_type": "stream",
     "text": [
      ">> Working directories:\n",
      "Input files: input/\n",
      "Output files: output/trajectories/openmm_files/\n",
      " \n",
      ">> Integrator parameters:\n",
      "Integrator timestep: 0.002 ps\n",
      "Number of timesteps: 20000\n",
      "Real time: 0.04 ns\n",
      "Saved frames (only molecule): 100\n",
      "Saved frames (molecule+water): 100\n",
      " \n",
      ">> System parameters:\n",
      "Temperature: 300 K\n",
      "Friction: 1 ps-1\n",
      "\n",
      "<openmm.openmm.LangevinIntegrator; proxy of <Swig Object of type 'OpenMM::LangevinIntegrator *' at 0x7f22e9018ff0> >\n",
      "smiles =  C=C(C)C(Cl)Cl\n",
      "Solvation ... \n",
      "\n",
      ">> Molecule parameters:\n",
      "This simulation is with explicit solvent\n",
      "Number of atoms (no water): 12\n",
      "Number of water molecules: 870\n",
      "Total number of atoms: 2622\n",
      " \n",
      "\n",
      "\n",
      "*** Minimizing ...\n",
      "*** Minimization completed ***\n",
      "\n",
      "\n",
      "*** Equilibrating...\n",
      "*** Equilibration completed ***\n"
     ]
    },
    {
     "name": "stderr",
     "output_type": "stream",
     "text": [
      "/scratch/htc/ldonati/anaconda32/envs/emma32/lib/python3.11/site-packages/mdtraj/utils/validation.py:123: TypeCastPerformanceWarning: Casting xyz dtype=float64 to <class 'numpy.float32'> \n",
      "  warnings.warn(\n"
     ]
    },
    {
     "name": "stdout",
     "output_type": "stream",
     "text": [
      "#\"Step\",\"Potential Energy (kJ/mole)\",\"Temperature (K)\",\"Speed (ns/day)\"\n",
      "20000,-42262.014546225575,295.4119491158105,0\n",
      "30000,-42859.308856765536,315.91122027558885,663\n",
      "\n",
      "\n",
      "****** SIMULATION COMPLETED *****************************\n",
      "\n",
      "\n"
     ]
    }
   ],
   "source": [
    "pdbfile_solute = 'pdbfile_solute.pdb'\n",
    "pdbfile_water = 'pdbfile_watershortsddddddd dddddddddddddddddsaddas.pdb'\n",
    "\n",
    "file_traj_water  = \"trajectory_water.dcd\"\n",
    "file_traj_solute = \"trajectory_solute.dcd\"\n",
    "\n",
    "generate_initial_trajectory(\n",
    "                                inp_dir  =  inp_dir,\n",
    "                                out_dir  =  out_trajectories2,\n",
    "                                pdbfile_solute = pdbfile_solute, \n",
    "                                smiles ='C=C(C)C(Cl)Cl',\n",
    "                                file_traj_water  = file_traj_water,\n",
    "                                file_traj_solute = file_traj_solute,\n",
    "                                dt       = 0.002,\n",
    "                                Nsteps   = 20000000,\n",
    "                                Nframes_solute    = 4000,\n",
    "                                Nframes_water     = 4000,\n",
    "                                solvent = 'water',\n",
    "                                timesteps_equilibration = 10000,\n",
    "                                save_vels = True,\n",
    "                                gamma = 1,\n",
    "                                T     = 300,\n",
    "                                water_padding = 1.5\n",
    "                            )"
   ]
  }
 ],
 "metadata": {
  "kernelspec": {
   "display_name": "emma32",
   "language": "python",
   "name": "python3"
  },
  "language_info": {
   "codemirror_mode": {
    "name": "ipython",
    "version": 3
   },
   "file_extension": ".py",
   "mimetype": "text/x-python",
   "name": "python",
   "nbconvert_exporter": "python",
   "pygments_lexer": "ipython3",
   "version": "3.11.8"
  }
 },
 "nbformat": 4,
 "nbformat_minor": 5
}
