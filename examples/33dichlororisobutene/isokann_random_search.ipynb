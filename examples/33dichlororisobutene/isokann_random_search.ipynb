{
 "cells": [
  {
   "cell_type": "code",
   "execution_count": 1,
   "id": "7b4795f3",
   "metadata": {},
   "outputs": [
    {
     "name": "stdout",
     "output_type": "stream",
     "text": [
      "Created variables:\n",
      "inp_dir = input/\n",
      "out_trajectories1 = output/trajectories/\n",
      "out_trajectories2 = output/trajectories/openmm_files/\n",
      "out_trajectories3 = output/trajectories/openmm_files/initial_states/\n",
      "out_trajectories4 = output/trajectories/openmm_files/final_states/\n",
      "out_trajectories5 = output/trajectories/openmm_files/final_states2/\n",
      "out_isokann = output/isokann/\n",
      "out_mokito = output/mokito/\n",
      "\n",
      "cuda\n"
     ]
    }
   ],
   "source": [
    "import numpy as np\n",
    "import sympy as sp\n",
    "import matplotlib.pyplot as plt\n",
    "import matplotlib.cm as cm\n",
    "\n",
    "import sys\n",
    "import os\n",
    "import torch as pt\n",
    "from tqdm import tqdm\n",
    "\n",
    "# Add the project root\n",
    "sys.path.append(os.path.abspath('../../'))\n",
    "\n",
    "from src.useful_functions import read_dirs_paths\n",
    "from src.isokann.modules3 import *\n",
    "\n",
    "# For matplotlib\n",
    "font = {'size'   : 10}\n",
    "plt.rc('font', **font)\n",
    "in2cm = 1/2.54  # centimeters in inches\n",
    "\n",
    "# For reproducibility\n",
    "np.random.seed(0)\n",
    "pt.manual_seed(0)\n",
    "\n",
    "# Read directory paths\n",
    "read_dirs_paths('dir_paths.txt', globals())\n",
    "\n",
    "device = pt.device(\"cuda\" if pt.cuda.is_available() else \"cpu\")\n",
    "print(\"\")\n",
    "print(device)\n"
   ]
  },
  {
   "cell_type": "code",
   "execution_count": null,
   "id": "558510dc-fb1d-41d0-bb1d-b98df11b5609",
   "metadata": {},
   "outputs": [
    {
     "name": "stdout",
     "output_type": "stream",
     "text": [
      "torch.Size([4000, 10, 66])\n"
     ]
    }
   ],
   "source": [
    "# Load initial and final states and convert to torch\n",
    "D0 = pt.load(out_trajectories1 + 'PWDistances_0.pt', map_location=device)\n",
    "DT = pt.load(out_trajectories1 + 'PWDistances_t.pt', map_location=device)\n",
    "\n",
    "Npoints = D0.shape[0]\n",
    "Ndims   = D0.shape[1]\n",
    "\n",
    "Nfinpoints  = DT.shape[1]\n",
    "Nframes     = DT.shape[3]\n",
    "\n",
    "\n",
    "frame = 0\n",
    "Dt = pt.clone(DT[frame,:,:,:])\n",
    "\n",
    "print(Dt.shape)"
   ]
  },
  {
   "cell_type": "code",
   "execution_count": 3,
   "id": "7587632a-c01c-4509-b911-0a570d7e5c17",
   "metadata": {},
   "outputs": [
    {
     "name": "stderr",
     "output_type": "stream",
     "text": [
      "  0%|          | 0/15 [00:00<?, ?it/s]"
     ]
    },
    {
     "name": "stdout",
     "output_type": "stream",
     "text": [
      " \n",
      "Nepochs = 20\n",
      "Nodes = [66 33 16  1]\n",
      "Learning rate = 0.01\n",
      "Weight decay = 0.0001\n",
      "Batch size = 200\n",
      "Patience = 3\n",
      "Activation function = leakyrelu\n",
      "Validation loss: "
     ]
    },
    {
     "name": "stderr",
     "output_type": "stream",
     "text": [
      "  7%|▋         | 1/15 [00:11<02:39, 11.38s/it]"
     ]
    },
    {
     "name": "stdout",
     "output_type": "stream",
     "text": [
      "tensor(5.8871e-06, device='cuda:0')\n",
      "Convergence: 1.0004278084162463\n",
      " \n",
      "Nepochs = 15\n",
      "Nodes = [66 33 16  1]\n",
      "Learning rate = 0.001\n",
      "Weight decay = 0.001\n",
      "Batch size = 200\n",
      "Patience = 2\n",
      "Activation function = leakyrelu\n"
     ]
    },
    {
     "name": "stderr",
     "output_type": "stream",
     "text": [
      " 13%|█▎        | 2/15 [00:52<06:18, 29.14s/it]"
     ]
    },
    {
     "name": "stdout",
     "output_type": "stream",
     "text": [
      "Validation loss: tensor(0.0310, device='cuda:0')\n",
      "Convergence: 1.018166055210579\n",
      " \n",
      "Nepochs = 10\n",
      "Nodes = [66 44  1]\n",
      "Learning rate = 0.0001\n",
      "Weight decay = 0.0001\n",
      "Batch size = 200\n",
      "Patience = 5\n",
      "Activation function = leakyrelu\n"
     ]
    },
    {
     "name": "stderr",
     "output_type": "stream",
     "text": [
      " 20%|██        | 3/15 [01:10<04:46, 23.89s/it]"
     ]
    },
    {
     "name": "stdout",
     "output_type": "stream",
     "text": [
      "Validation loss: tensor(0.0570, device='cuda:0')\n",
      "Convergence: 1.003590856859781\n",
      " \n",
      "Nepochs = 15\n",
      "Nodes = [66 44  1]\n",
      "Learning rate = 0.0001\n",
      "Weight decay = 0.01\n",
      "Batch size = 200\n",
      "Patience = 3\n",
      "Activation function = leakyrelu\n"
     ]
    },
    {
     "name": "stderr",
     "output_type": "stream",
     "text": [
      " 27%|██▋       | 4/15 [01:36<04:31, 24.65s/it]"
     ]
    },
    {
     "name": "stdout",
     "output_type": "stream",
     "text": [
      "Validation loss: tensor(0.0381, device='cuda:0')\n",
      "Convergence: 1.0030640310546097\n",
      " \n",
      "Nepochs = 5\n",
      "Nodes = [66 33  1]\n",
      "Learning rate = 0.001\n",
      "Weight decay = 0.0001\n",
      "Batch size = 200\n",
      "Patience = 5\n",
      "Activation function = leakyrelu\n"
     ]
    },
    {
     "name": "stderr",
     "output_type": "stream",
     "text": [
      " 33%|███▎      | 5/15 [01:45<03:09, 18.93s/it]"
     ]
    },
    {
     "name": "stdout",
     "output_type": "stream",
     "text": [
      "Validation loss: tensor(0.0388, device='cuda:0')\n",
      "Convergence: 1.0087126319959747\n",
      " \n",
      "Nepochs = 20\n",
      "Nodes = [66 33 16  1]\n",
      "Learning rate = 0.0001\n",
      "Weight decay = 0.0001\n",
      "Batch size = 50\n",
      "Patience = 5\n",
      "Activation function = leakyrelu\n"
     ]
    },
    {
     "name": "stderr",
     "output_type": "stream",
     "text": [
      " 40%|████      | 6/15 [04:37<10:38, 70.97s/it]"
     ]
    },
    {
     "name": "stdout",
     "output_type": "stream",
     "text": [
      "Validation loss: tensor(0.0485, device='cuda:0')\n",
      "Convergence: 1.0126781361480124\n",
      " \n",
      "Nepochs = 5\n",
      "Nodes = [66 33 16  1]\n",
      "Learning rate = 0.0001\n",
      "Weight decay = 0.01\n",
      "Batch size = 200\n",
      "Patience = 3\n",
      "Activation function = leakyrelu\n"
     ]
    },
    {
     "name": "stderr",
     "output_type": "stream",
     "text": [
      " 47%|████▋     | 7/15 [04:39<06:28, 48.55s/it]"
     ]
    },
    {
     "name": "stdout",
     "output_type": "stream",
     "text": [
      "Validation loss: tensor(0.0815, device='cuda:0')\n",
      "Convergence: 1.0003783089778977\n",
      " \n",
      "Nepochs = 10\n",
      "Nodes = [66 33  1]\n",
      "Learning rate = 0.0001\n",
      "Weight decay = 0.01\n",
      "Batch size = 50\n",
      "Patience = 5\n",
      "Activation function = leakyrelu\n"
     ]
    },
    {
     "name": "stderr",
     "output_type": "stream",
     "text": [
      " 53%|█████▎    | 8/15 [05:47<06:22, 54.59s/it]"
     ]
    },
    {
     "name": "stdout",
     "output_type": "stream",
     "text": [
      "Validation loss: tensor(0.0552, device='cuda:0')\n",
      "Convergence: 1.007806360838233\n",
      " \n",
      "Nepochs = 10\n",
      "Nodes = [66 44 22  1]\n",
      "Learning rate = 0.0001\n",
      "Weight decay = 1e-05\n",
      "Batch size = 50\n",
      "Patience = 2\n",
      "Activation function = leakyrelu\n"
     ]
    },
    {
     "name": "stderr",
     "output_type": "stream",
     "text": [
      " 60%|██████    | 9/15 [07:31<07:00, 70.03s/it]"
     ]
    },
    {
     "name": "stdout",
     "output_type": "stream",
     "text": [
      "Validation loss: tensor(0.0408, device='cuda:0')\n",
      "Convergence: 1.0061891327975478\n",
      " \n",
      "Nepochs = 20\n",
      "Nodes = [66 44  1]\n",
      "Learning rate = 0.001\n",
      "Weight decay = 0.0001\n",
      "Batch size = 200\n",
      "Patience = 2\n",
      "Activation function = leakyrelu\n"
     ]
    },
    {
     "name": "stderr",
     "output_type": "stream",
     "text": [
      " 67%|██████▋   | 10/15 [08:08<05:00, 60.11s/it]"
     ]
    },
    {
     "name": "stdout",
     "output_type": "stream",
     "text": [
      "Validation loss: tensor(0.0011, device='cuda:0')\n",
      "Convergence: 1.0063484563943468\n",
      " \n",
      "Nepochs = 10\n",
      "Nodes = [66 33  1]\n",
      "Learning rate = 0.001\n",
      "Weight decay = 0.01\n",
      "Batch size = 200\n",
      "Patience = 3\n",
      "Activation function = leakyrelu\n"
     ]
    },
    {
     "name": "stderr",
     "output_type": "stream",
     "text": [
      " 73%|███████▎  | 11/15 [08:26<03:08, 47.21s/it]"
     ]
    },
    {
     "name": "stdout",
     "output_type": "stream",
     "text": [
      "Validation loss: tensor(0.0394, device='cuda:0')\n",
      "Convergence: 1.0155589163938643\n",
      " \n",
      "Nepochs = 10\n",
      "Nodes = [66 33  1]\n",
      "Learning rate = 0.01\n",
      "Weight decay = 0.001\n",
      "Batch size = 50\n",
      "Patience = 2\n",
      "Activation function = leakyrelu\n"
     ]
    },
    {
     "name": "stderr",
     "output_type": "stream",
     "text": [
      " 80%|████████  | 12/15 [08:35<01:46, 35.49s/it]"
     ]
    },
    {
     "name": "stdout",
     "output_type": "stream",
     "text": [
      "Validation loss: tensor(2.2448e-05, device='cuda:0')\n",
      "Convergence: 1.0008158739576258\n",
      " \n",
      "Nepochs = 20\n",
      "Nodes = [66 44  1]\n",
      "Learning rate = 0.01\n",
      "Weight decay = 0.001\n",
      "Batch size = 50\n",
      "Patience = 2\n",
      "Activation function = leakyrelu\n"
     ]
    },
    {
     "name": "stderr",
     "output_type": "stream",
     "text": [
      " 87%|████████▋ | 13/15 [08:51<00:59, 29.53s/it]"
     ]
    },
    {
     "name": "stdout",
     "output_type": "stream",
     "text": [
      "Validation loss: tensor(2.9104e-05, device='cuda:0')\n",
      "Convergence: 1.0005565291294412\n",
      " \n",
      "Nepochs = 20\n",
      "Nodes = [66 33  1]\n",
      "Learning rate = 0.0001\n",
      "Weight decay = 0.001\n",
      "Batch size = 50\n",
      "Patience = 5\n",
      "Activation function = leakyrelu\n"
     ]
    },
    {
     "name": "stderr",
     "output_type": "stream",
     "text": [
      " 93%|█████████▎| 14/15 [11:06<01:01, 61.33s/it]"
     ]
    },
    {
     "name": "stdout",
     "output_type": "stream",
     "text": [
      "Validation loss: tensor(0.0392, device='cuda:0')\n",
      "Convergence: 1.0139033656610594\n",
      " \n",
      "Nepochs = 15\n",
      "Nodes = [66 33 16  1]\n",
      "Learning rate = 0.001\n",
      "Weight decay = 0.0001\n",
      "Batch size = 50\n",
      "Patience = 3\n",
      "Activation function = leakyrelu\n"
     ]
    },
    {
     "name": "stderr",
     "output_type": "stream",
     "text": [
      "100%|██████████| 15/15 [12:15<00:00, 49.01s/it]"
     ]
    },
    {
     "name": "stdout",
     "output_type": "stream",
     "text": [
      "Validation loss: tensor(1.5908e-05, device='cuda:0')\n",
      "Convergence: 1.000868111035734\n",
      "The best hyperparameters are: {'Nepochs': 20, 'nodes': array([66, 33, 16,  1]), 'learning_rate': 0.01, 'weight_decay': 0.0001, 'batch_size': 200, 'patience': 3, 'act_fun': 'leakyrelu'}\n",
      "The best validation loss is: tensor(5.8871e-06, device='cuda:0')\n"
     ]
    },
    {
     "name": "stderr",
     "output_type": "stream",
     "text": [
      "\n"
     ]
    }
   ],
   "source": [
    "NN_epochs = [5, 10 ,15, 20]\n",
    "\n",
    "\n",
    "NN_nodes =          [(Ndims, int(2*Ndims/3), 1), \n",
    "                      (Ndims, int(2*Ndims/3), int(Ndims/3), 1),\n",
    "                      (Ndims, int(Ndims/2), 1), \n",
    "                      (Ndims, int(Ndims/2),int(Ndims/4), 1)]\n",
    "\n",
    "NN_lr = [ 0.01,\n",
    "          0.001,\n",
    "          0.0001]\n",
    "\n",
    "NN_wd  = [ 0.01,\n",
    "           0.001,\n",
    "           0.0001,\n",
    "           0.00001]\n",
    "\n",
    "NN_bs  = [50, 100, 200]\n",
    "\n",
    "NN_patience = [2, 3, 5]\n",
    "\n",
    "NN_act_fun = ['leakyrelu']\n",
    "\n",
    "best_hyperparams, best_val_loss = random_search(D0,\n",
    "                                                Dt,\n",
    "                                                NN_epochs,\n",
    "                                                NN_nodes,\n",
    "                                                NN_lr,\n",
    "                                                NN_wd,\n",
    "                                                NN_bs,\n",
    "                                                NN_patience,\n",
    "                                                NN_act_fun,\n",
    "                                                search_iterations=15,\n",
    "                                                test_size = 0.2)\n",
    "\n",
    "print(\"The best hyperparameters are:\", best_hyperparams)\n",
    "print(\"The best validation loss is:\",  best_val_loss)\n"
   ]
  },
  {
   "cell_type": "code",
   "execution_count": 4,
   "id": "f5a8fbc0",
   "metadata": {},
   "outputs": [],
   "source": [
    "import pickle\n",
    "# Save to a file\n",
    "with open(out_isokann + 'hyperparameters.pkl', 'wb') as file:\n",
    "    pickle.dump(best_hyperparams, file)"
   ]
  }
 ],
 "metadata": {
  "kernelspec": {
   "display_name": "emma32",
   "language": "python",
   "name": "python3"
  },
  "language_info": {
   "codemirror_mode": {
    "name": "ipython",
    "version": 3
   },
   "file_extension": ".py",
   "mimetype": "text/x-python",
   "name": "python",
   "nbconvert_exporter": "python",
   "pygments_lexer": "ipython3",
   "version": "3.11.8"
  }
 },
 "nbformat": 4,
 "nbformat_minor": 5
}
