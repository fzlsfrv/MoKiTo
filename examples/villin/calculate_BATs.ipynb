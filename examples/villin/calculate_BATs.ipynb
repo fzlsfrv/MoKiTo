{
 "cells": [
  {
   "cell_type": "code",
   "execution_count": null,
   "id": "8a9a7a1f",
   "metadata": {},
   "outputs": [],
   "source": [
    "import numpy as np\n",
    "import sympy as sp\n",
    "import matplotlib.pyplot as plt\n",
    "import sys\n",
    "import os\n",
    "\n",
    "# Add the project root\n",
    "sys.path.append(os.path.abspath('../../'))\n",
    "\n",
    "from src.useful_functions import *\n",
    "from src.openmm.BATs_module import generate_BAT_torch\n",
    "\n",
    "# For reproducibility\n",
    "np.random.seed(0)\n",
    "\n",
    "# For matplotlib\n",
    "font = {'size'   : 10}\n",
    "plt.rc('font', **font)\n",
    "in2cm = 1/2.54  # centimeters in inches\n",
    "\n",
    "# Read directory paths\n",
    "read_dirs_paths('dir_paths.txt', globals())\n"
   ]
  },
  {
   "cell_type": "code",
   "execution_count": null,
   "id": "a612a667",
   "metadata": {},
   "outputs": [],
   "source": [
    "\n",
    "if not os.path.exists(out_isokann ):\n",
    "    # Create the directory\n",
    "    os.makedirs(out_isokann )\n",
    "    print(out_isokann , \"created successfully!\")\n",
    "else:\n",
    "    print(out_isokann , \"already exists!\")\n",
    "\n",
    "print(\" \")\n",
    "print(\" \")\n",
    "\n",
    "generate_BAT_torch(\n",
    "                        inp_dir  =  inp_dir ,\n",
    "                        out_dir  =  out_trajectories2 ,\n",
    "                        iso_dir  =  out_trajectories1 ,\n",
    "                        pdbfile_solute    = 'pdbfile_solute.pdb', \n",
    "                        pdbfile_water     = 'pdbfile_water.pdb', \n",
    "                        prmtopfile_solute = 'prmtopfile_solute.prmtop', \n",
    "                        file_traj_water   = 'trajectory_water.dcd',\n",
    "                        file_traj_solute  = 'trajectory_solute.dcd',\n",
    "                        frames     = np.array([0,1,2,3,4,5,6,7,8,9]),\n",
    "                        rel_coords = np.array([[0,586]]),\n",
    "                        BB=True\n",
    "                        )\n",
    "                        "
   ]
  }
 ],
 "metadata": {
  "kernelspec": {
   "display_name": "emma32",
   "language": "python",
   "name": "python3"
  },
  "language_info": {
   "codemirror_mode": {
    "name": "ipython",
    "version": 3
   },
   "file_extension": ".py",
   "mimetype": "text/x-python",
   "name": "python",
   "nbconvert_exporter": "python",
   "pygments_lexer": "ipython3",
   "version": "3.11.8"
  }
 },
 "nbformat": 4,
 "nbformat_minor": 5
}
