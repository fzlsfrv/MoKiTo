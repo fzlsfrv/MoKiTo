{
 "cells": [
  {
   "cell_type": "code",
   "execution_count": 1,
   "id": "c2bcd85c-e864-41a2-9607-56838f3d5568",
   "metadata": {},
   "outputs": [
    {
     "name": "stderr",
     "output_type": "stream",
     "text": [
      "/scratch/htc/fsafarov/openmm_ff/lib/python3.12/site-packages/Bio/Application/__init__.py:39: BiopythonDeprecationWarning: The Bio.Application modules and modules relying on it have been deprecated.\n",
      "\n",
      "Due to the on going maintenance burden of keeping command line application\n",
      "wrappers up to date, we have decided to deprecate and eventually remove these\n",
      "modules.\n",
      "\n",
      "We instead now recommend building your command line and invoking it directly\n",
      "with the subprocess module.\n",
      "  warnings.warn(\n"
     ]
    }
   ],
   "source": [
    "import MDAnalysis as mda\n",
    "from MDAnalysis.analysis import align\n",
    "from openmm.app import* \n",
    "import sys\n",
    "import os\n",
    "sys.path.append(os.path.abspath('../'))\n",
    "from src.useful_functions import*\n"
   ]
  },
  {
   "cell_type": "code",
   "execution_count": 2,
   "id": "3d696c88-8f7c-4c45-975e-20afede70533",
   "metadata": {},
   "outputs": [
    {
     "name": "stdout",
     "output_type": "stream",
     "text": [
      "Created variables:\n",
      "inp_dir = /scratch/htc/fsafarov/2cm2_simulation/md2/input/\n",
      "out_trajectories1 = /scratch/htc/fsafarov/2cm2_simulation/md2/output_[0-5]*/trajectories/\n",
      "out_trajectories2 = /scratch/htc/fsafarov/2cm2_simulation/md2/output_[0-5]*/trajectories/openmm_files/\n",
      "out_initial_states = /scratch/htc/fsafarov/2cm2_simulation/md2/output_0/trajectories/openmm_files/initial_states/\n",
      "out_final_states = /scratch/htc/fsafarov/2cm2_simulation/md2/output_[0-5]*/trajectories/openmm_files/final_states/\n",
      "out_isokann = /scratch/htc/fsafarov/2cm2_simulation/md2/output/isokann/\n",
      "out_mokito = /scratch/htc/fsafarov/2cm2_simulation/md2/output/mokito/\n"
     ]
    }
   ],
   "source": [
    "read_dirs_paths('dir_paths.txt', globals())"
   ]
  },
  {
   "cell_type": "code",
   "execution_count": 4,
   "id": "68f9a1d6-3491-4f72-942a-194ebb0d60c2",
   "metadata": {},
   "outputs": [
    {
     "name": "stdout",
     "output_type": "stream",
     "text": [
      "6\n"
     ]
    }
   ],
   "source": [
    "# Same structure for all trajectories\n",
    "ref = mda.Universe(inp_dir + 'pdbfile_water.pdb')\n",
    "\n",
    "traj_files, folders = multiple_dirs(out_trajectories2, fetch_files = True)\n",
    "print(len(folders))\n",
    "# trj = []\n",
    "for i in range(len(folders)):\n",
    "    trj.append(mda.Universe(inp_dir + 'pdbfile_water.pdb', os.path.join(folders[i], 'trajectory_water_combined.dcd')))\n",
    "    alignment = align.AlignTraj(trj[i], ref, select='protein and name CA', filename= os.path.join(folders[i], 'alignedtraj_rmsfit_CA_only.dcd'))\n",
    "    alignment.run()\n"
   ]
  },
  {
   "cell_type": "code",
   "execution_count": null,
   "id": "8af2fbdf-c238-4b6d-9c18-7f35b467f066",
   "metadata": {},
   "outputs": [],
   "source": [
    "fs_files, fs_folders = multiple_dirs(out_final_states, fetch_files = True)\n",
    "for fs_folder in fs_folders:\n",
    "    for fs_file in fs_files[fs_folder]:\n",
    "        try:\n",
    "            trj = mda.Universe(inp_dir + 'pdbfile_water.pdb', os.path.join(fs_folder, fs_file))\n",
    "        except:\n",
    "            continue\n",
    "        alignment = align.AlignTraj(trj, ref, select='protein and name CA', filename= os.path.join(fs_folder, fs_file.replace('.dcd', '_aligned.dcd')))\n",
    "        alignment.run()"
   ]
  },
  {
   "cell_type": "code",
   "execution_count": 7,
   "id": "acc1027b-02c1-4e0c-8a9d-5f141b62d01d",
   "metadata": {},
   "outputs": [],
   "source": [
    "import MDAnalysis as mda\n",
    "from openmm.app import* \n",
    "\n",
    "ref = mda.Universe('/scratch/htc/fsafarov/2cm2_simulation/md2/input/pdbfile_water.pdb')\n",
    "calphas = ref.select_atoms(\"name CA and resname ASP and resid 11\")\n",
    "n_calpha = calphas.n_atoms\n",
    "bb_idx = calphas.indices"
   ]
  },
  {
   "cell_type": "code",
   "execution_count": 8,
   "id": "b789cec8-dd5d-4b8d-9637-4ef8b2666514",
   "metadata": {},
   "outputs": [
    {
     "data": {
      "text/plain": [
       "array([ 162, 4601, 4602, 4603, 4604, 4605, 4606, 4607, 4608, 4609, 4610,\n",
       "       4611, 4612, 4613, 4614, 4615, 4616, 4617, 4618, 4619, 4620, 4621])"
      ]
     },
     "execution_count": 8,
     "metadata": {},
     "output_type": "execute_result"
    }
   ],
   "source": [
    "import numpy as np\n",
    "lig = ref.select_atoms(\"resname KB8 and not element H\") \n",
    "n_lig = lig.n_atoms\n",
    "kb8_idx = lig.indices\n",
    "\n",
    "sel_idx = np.concatenate([bb_idx, kb8_idx])\n",
    "sel_idx"
   ]
  },
  {
   "cell_type": "code",
   "execution_count": 3,
   "id": "43c4cd12-992a-4614-8a16-7d3b95845527",
   "metadata": {},
   "outputs": [],
   "source": [
    "from scipy.spatial.distance import pdist"
   ]
  },
  {
   "cell_type": "code",
   "execution_count": 9,
   "id": "3b91f93f-e045-47e6-9e49-c50865e99aa2",
   "metadata": {},
   "outputs": [
    {
     "data": {
      "text/plain": [
       "array([90.604515, 90.604515, 90.604515, 90.      , 90.      , 90.      ],\n",
       "      dtype=float32)"
      ]
     },
     "execution_count": 9,
     "metadata": {},
     "output_type": "execute_result"
    }
   ],
   "source": [
    "trj= mda.Universe(inp_dir + 'pdbfile_water.pdb', os.path.join(folders[0], 'trajectory_water_combined.dcd'))\n",
    "trj.trajectory[137]\n",
    "atoms   =  trj.atoms[sel_idx]\n",
    "atom2_coords = atoms.positions\n",
    "box = trj.trajectory.ts.dimensions\n",
    "box"
   ]
  },
  {
   "cell_type": "code",
   "execution_count": 10,
   "id": "0e48e6ed-28cc-45cf-816d-52a7b3744ec6",
   "metadata": {},
   "outputs": [
    {
     "data": {
      "text/plain": [
       "array([90.605, 90.605, 90.605, 90.   , 90.   , 90.   ], dtype=float32)"
      ]
     },
     "execution_count": 10,
     "metadata": {},
     "output_type": "execute_result"
    }
   ],
   "source": [
    "ref.dimensions"
   ]
  },
  {
   "cell_type": "code",
   "execution_count": 11,
   "id": "b3b061cb-bb64-4e7b-9163-a650913baeb2",
   "metadata": {},
   "outputs": [],
   "source": [
    "rel_coords = np.array([[0,70]])"
   ]
  },
  {
   "cell_type": "code",
   "execution_count": 13,
   "id": "a1258f69-d130-49ea-83ca-cfe69424cac1",
   "metadata": {},
   "outputs": [
    {
     "data": {
      "text/plain": [
       "2"
      ]
     },
     "execution_count": 13,
     "metadata": {},
     "output_type": "execute_result"
    }
   ],
   "source": [
    "len(rel_coords[0])"
   ]
  },
  {
   "cell_type": "code",
   "execution_count": null,
   "id": "d97e95d0-d605-4ff2-854b-af3bdeab2571",
   "metadata": {},
   "outputs": [],
   "source": []
  }
 ],
 "metadata": {
  "kernelspec": {
   "display_name": "OpenMM (CUDA2)",
   "language": "python",
   "name": "openmm_ff"
  },
  "language_info": {
   "codemirror_mode": {
    "name": "ipython",
    "version": 3
   },
   "file_extension": ".py",
   "mimetype": "text/x-python",
   "name": "python",
   "nbconvert_exporter": "python",
   "pygments_lexer": "ipython3",
   "version": "3.12.2"
  }
 },
 "nbformat": 4,
 "nbformat_minor": 5
}
