{
 "cells": [
  {
   "cell_type": "code",
   "execution_count": 5,
   "id": "7b4795f3",
   "metadata": {},
   "outputs": [
    {
     "name": "stdout",
     "output_type": "stream",
     "text": [
      "Created variables:\n",
      "out_trajectories = output/trajectories/\n",
      "out_isokann = output/isokann/\n",
      "out_mokito = output/mokito/\n",
      "\n",
      "cuda\n"
     ]
    }
   ],
   "source": [
    "import numpy as np\n",
    "import sympy as sp\n",
    "import matplotlib.pyplot as plt\n",
    "import matplotlib.cm as cm\n",
    "\n",
    "import sys\n",
    "import os\n",
    "import torch as pt\n",
    "from tqdm import tqdm\n",
    "\n",
    "# Add the project root\n",
    "sys.path.append(os.path.abspath('../../'))\n",
    "\n",
    "from src.useful_functions import read_dirs_paths\n",
    "from src.isokann.modules3 import *\n",
    "\n",
    "# For matplotlib\n",
    "font = {'size'   : 10}\n",
    "plt.rc('font', **font)\n",
    "in2cm = 1/2.54  # centimeters in inches\n",
    "\n",
    "# For reproducibility\n",
    "np.random.seed(0)\n",
    "pt.manual_seed(0)\n",
    "\n",
    "# Read directory paths\n",
    "read_dirs_paths('dir_paths.txt', globals())\n",
    "\n",
    "device = pt.device(\"cuda\" if pt.cuda.is_available() else \"cpu\")\n",
    "print(\"\")\n",
    "print(device)\n"
   ]
  },
  {
   "cell_type": "code",
   "execution_count": 6,
   "id": "558510dc-fb1d-41d0-bb1d-b98df11b5609",
   "metadata": {},
   "outputs": [
    {
     "name": "stdout",
     "output_type": "stream",
     "text": [
      "torch.Size([4000, 10, 2])\n"
     ]
    }
   ],
   "source": [
    "# Load initial and final states and convert to torch\n",
    "X0       = pt.tensor(np.load(out_trajectories + 'X0.npy'), dtype=pt.float32).to(device)\n",
    "Xt       = pt.tensor(np.load(out_trajectories + 'Xt.npy'), dtype=pt.float32).to(device)\n",
    "\n",
    "Npoints = X0.shape[0]\n",
    "Ndims   = X0.shape[1]\n",
    "\n",
    "\n",
    "print(Xt.shape)"
   ]
  },
  {
   "cell_type": "code",
   "execution_count": 7,
   "id": "7587632a-c01c-4509-b911-0a570d7e5c17",
   "metadata": {},
   "outputs": [
    {
     "name": "stderr",
     "output_type": "stream",
     "text": [
      "  0%|          | 0/5 [00:00<?, ?it/s]"
     ]
    },
    {
     "name": "stdout",
     "output_type": "stream",
     "text": [
      " \n",
      "Nepochs = 15\n",
      "Nodes = [  2 128   1]\n",
      "Learning rate = 0.001\n",
      "Weight decay = 1e-05\n",
      "Batch size = 100\n",
      "Patience = 2\n",
      "Activation function = sigmoid\n"
     ]
    },
    {
     "name": "stderr",
     "output_type": "stream",
     "text": [
      " 20%|██        | 1/5 [00:06<00:24,  6.04s/it]"
     ]
    },
    {
     "name": "stdout",
     "output_type": "stream",
     "text": [
      "Validation loss: tensor(0.0007, device='cuda:0')\n",
      "Convergence: 1.0005796241869787\n",
      " \n",
      "Nepochs = 5\n",
      "Nodes = [ 2 64 32  1]\n",
      "Learning rate = 0.001\n",
      "Weight decay = 1e-05\n",
      "Batch size = 200\n",
      "Patience = 5\n",
      "Activation function = sigmoid\n"
     ]
    },
    {
     "name": "stderr",
     "output_type": "stream",
     "text": [
      " 40%|████      | 2/5 [00:19<00:31, 10.64s/it]"
     ]
    },
    {
     "name": "stdout",
     "output_type": "stream",
     "text": [
      "Validation loss: tensor(0.0291, device='cuda:0')\n",
      "Convergence: 1.0113338530021267\n",
      " \n",
      "Nepochs = 15\n",
      "Nodes = [  2 128   1]\n",
      "Learning rate = 0.001\n",
      "Weight decay = 0.001\n",
      "Batch size = 200\n",
      "Patience = 3\n",
      "Activation function = sigmoid\n"
     ]
    },
    {
     "name": "stderr",
     "output_type": "stream",
     "text": [
      " 60%|██████    | 3/5 [00:23<00:14,  7.22s/it]"
     ]
    },
    {
     "name": "stdout",
     "output_type": "stream",
     "text": [
      "Validation loss: tensor(0.0008, device='cuda:0')\n",
      "Convergence: 1.0005326012729867\n",
      " \n",
      "Nepochs = 5\n",
      "Nodes = [ 2 64 32  1]\n",
      "Learning rate = 0.01\n",
      "Weight decay = 0.001\n",
      "Batch size = 50\n",
      "Patience = 5\n",
      "Activation function = sigmoid\n"
     ]
    },
    {
     "name": "stderr",
     "output_type": "stream",
     "text": [
      " 80%|████████  | 4/5 [00:29<00:06,  6.81s/it]"
     ]
    },
    {
     "name": "stdout",
     "output_type": "stream",
     "text": [
      "Validation loss: tensor(0.0009, device='cuda:0')\n",
      "Convergence: 1.0005583918255858\n",
      " \n",
      "Nepochs = 5\n",
      "Nodes = [ 2 64  1]\n",
      "Learning rate = 0.001\n",
      "Weight decay = 1e-05\n",
      "Batch size = 100\n",
      "Patience = 2\n",
      "Activation function = sigmoid\n"
     ]
    },
    {
     "name": "stderr",
     "output_type": "stream",
     "text": [
      "100%|██████████| 5/5 [00:34<00:00,  6.89s/it]"
     ]
    },
    {
     "name": "stdout",
     "output_type": "stream",
     "text": [
      "Validation loss: tensor(0.0007, device='cuda:0')\n",
      "Convergence: 1.0008898121982133\n",
      "The best hyperparameters are: {'Nepochs': 15, 'nodes': array([  2, 128,   1]), 'learning_rate': 0.001, 'weight_decay': 1e-05, 'batch_size': 100, 'patience': 2, 'act_fun': 'sigmoid'}\n",
      "The best validation loss is: tensor(0.0007, device='cuda:0')\n"
     ]
    },
    {
     "name": "stderr",
     "output_type": "stream",
     "text": [
      "\n"
     ]
    }
   ],
   "source": [
    "NN_epochs = [5, 10 ,15]\n",
    "\n",
    "\n",
    "NN_nodes =          [ (Ndims, 64, 1),\n",
    "                      (Ndims, 128, 1),\n",
    "                      (Ndims, 64, 32, 1)]\n",
    "\n",
    "NN_lr = [ 0.01,\n",
    "          0.001,\n",
    "          0.0001]\n",
    "\n",
    "NN_wd  = [ 0.001,\n",
    "           0.0001,\n",
    "           0.00001]\n",
    "\n",
    "NN_bs  = [50, 100, 200]\n",
    "\n",
    "NN_patience = [2, 3, 5]\n",
    "\n",
    "NN_act_fun = ['sigmoid']\n",
    "\n",
    "best_hyperparams, best_val_loss = random_search(X0,\n",
    "                                                Xt,\n",
    "                                                NN_epochs,\n",
    "                                                NN_nodes,\n",
    "                                                NN_lr,\n",
    "                                                NN_wd,\n",
    "                                                NN_bs,\n",
    "                                                NN_patience,\n",
    "                                                NN_act_fun,\n",
    "                                                search_iterations=5,\n",
    "                                                test_size = 0.2)\n",
    "\n",
    "print(\"The best hyperparameters are:\", best_hyperparams)\n",
    "print(\"The best validation loss is:\",  best_val_loss)\n"
   ]
  },
  {
   "cell_type": "code",
   "execution_count": 8,
   "id": "f5a8fbc0",
   "metadata": {},
   "outputs": [],
   "source": [
    "import pickle\n",
    "# Save to a file\n",
    "with open(out_isokann + 'hyperparameters.pkl', 'wb') as file:\n",
    "    pickle.dump(best_hyperparams, file)"
   ]
  }
 ],
 "metadata": {
  "kernelspec": {
   "display_name": "emma32",
   "language": "python",
   "name": "python3"
  },
  "language_info": {
   "codemirror_mode": {
    "name": "ipython",
    "version": 3
   },
   "file_extension": ".py",
   "mimetype": "text/x-python",
   "name": "python",
   "nbconvert_exporter": "python",
   "pygments_lexer": "ipython3",
   "version": "3.11.8"
  }
 },
 "nbformat": 4,
 "nbformat_minor": 5
}
