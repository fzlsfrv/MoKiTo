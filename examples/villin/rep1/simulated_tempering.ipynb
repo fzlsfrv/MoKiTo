{
 "cells": [
  {
   "cell_type": "code",
   "execution_count": 3,
   "metadata": {},
   "outputs": [],
   "source": [
    "import numpy as np\n",
    "import sympy as sp\n",
    "import matplotlib.pyplot as plt\n",
    "import sys\n",
    "import os\n",
    "\n",
    "# Add the project root\n",
    "sys.path.append(os.path.abspath('../../../'))\n",
    "\n",
    "from src.openmm.simulated_tempering_module import generate_initial_trajectory\n",
    "\n",
    "# For reproducibility\n",
    "np.random.seed(1)"
   ]
  },
  {
   "cell_type": "code",
   "execution_count": null,
   "metadata": {},
   "outputs": [],
   "source": [
    "inp_dir = '../input/'\n",
    "out_dir = 'output/'\n",
    "\n",
    "pdbfile_solute = 'pdbfile_solute.pdb'\n",
    "pdbfile_water = 'pdbfile_water.pdb'\n",
    "\n",
    "file_traj_water  = \"trajectory_water.dcd\"\n",
    "file_traj_solute = \"trajectory_solute.dcd\"\n",
    "\n",
    "#500000000\n",
    "#10000\n",
    "#1000\n",
    "generate_initial_trajectory(\n",
    "                                inp_dir  =  inp_dir,\n",
    "                                out_dir  =  out_dir,\n",
    "                                pdbfile_solute = pdbfile_solute, \n",
    "                                file_traj_water  = file_traj_water,\n",
    "                                file_traj_solute = file_traj_solute,\n",
    "                                dt       = 0.002,\n",
    "                                Nsteps   = 500000000,\n",
    "                                Nframes_solute    = 10000,\n",
    "                                Nframes_water     = 2000,\n",
    "                                solvent = 'water',\n",
    "                                timesteps_equilibration = 10000,\n",
    "                                save_vels = True,\n",
    "                                gamma = 1,\n",
    "                                Ntemps     = 20,\n",
    "                                minT       = 273,\n",
    "                                maxT       = 500,\n",
    "                                water_padding = None,\n",
    "                                water_box = [5.4, 5.4, 5.4],\n",
    "                                platform = 'CUDA'\n",
    "                            )\n"
   ]
  },
  {
   "cell_type": "code",
   "execution_count": null,
   "metadata": {},
   "outputs": [],
   "source": []
  }
 ],
 "metadata": {
  "kernelspec": {
   "display_name": "emma32",
   "language": "python",
   "name": "python3"
  },
  "language_info": {
   "codemirror_mode": {
    "name": "ipython",
    "version": 3
   },
   "file_extension": ".py",
   "mimetype": "text/x-python",
   "name": "python",
   "nbconvert_exporter": "python",
   "pygments_lexer": "ipython3",
   "version": "3.11.8"
  }
 },
 "nbformat": 4,
 "nbformat_minor": 2
}
